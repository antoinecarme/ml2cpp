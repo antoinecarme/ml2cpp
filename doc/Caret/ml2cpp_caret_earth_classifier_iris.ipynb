{
 "cells": [
  {
   "cell_type": "code",
   "execution_count": 1,
   "metadata": {},
   "outputs": [
    {
     "name": "stderr",
     "output_type": "stream",
     "text": [
      "\n",
      "Attaching package: ‘httr’\n",
      "\n",
      "\n",
      "The following object is masked from ‘package:caret’:\n",
      "\n",
      "    progress\n",
      "\n",
      "\n"
     ]
    }
   ],
   "source": [
    "library(caret, quiet=TRUE);\n",
    "library(base64enc)\n",
    "library(httr)\n"
   ]
  },
  {
   "cell_type": "markdown",
   "metadata": {},
   "source": [
    "# Build a Model"
   ]
  },
  {
   "cell_type": "code",
   "execution_count": 2,
   "metadata": {},
   "outputs": [],
   "source": [
    "set.seed(1960)\n",
    "\n",
    "create_model  =  function() {\n",
    "\n",
    "    grid = data.frame(degree=2, nprune = 20)\n",
    "    ctrl = trainControl(method=\"none\")\n",
    "    model  <- train(Species ~ ., data = iris, method = \"earth\", trControl = ctrl, tuneGrid = grid)\n",
    "    \n",
    "    return(model)\n",
    "}"
   ]
  },
  {
   "cell_type": "code",
   "execution_count": 3,
   "metadata": {},
   "outputs": [
    {
     "name": "stderr",
     "output_type": "stream",
     "text": [
      "Loading required package: earth\n",
      "\n",
      "Loading required package: Formula\n",
      "\n",
      "Loading required package: plotmo\n",
      "\n",
      "Loading required package: plotrix\n",
      "\n",
      "Loading required package: TeachingDemos\n",
      "\n",
      "Warning message:\n",
      "“glm.fit: fitted probabilities numerically 0 or 1 occurred”\n",
      "Warning message:\n",
      "“glm.fit: fitted probabilities numerically 0 or 1 occurred”\n",
      "Warning message:\n",
      "“glm.fit: fitted probabilities numerically 0 or 1 occurred”\n"
     ]
    }
   ],
   "source": [
    "# dataset\n",
    "model = create_model()"
   ]
  },
  {
   "cell_type": "code",
   "execution_count": 4,
   "metadata": {},
   "outputs": [
    {
     "data": {
      "text/html": [
       "0.0133333333333333"
      ],
      "text/latex": [
       "0.0133333333333333"
      ],
      "text/markdown": [
       "0.0133333333333333"
      ],
      "text/plain": [
       "[1] 0.01333333"
      ]
     },
     "metadata": {},
     "output_type": "display_data"
    }
   ],
   "source": [
    "pred <- predict(model, as.matrix(iris[, -5]) , type=\"prob\")\n",
    "pred_labels <- predict(model, as.matrix(iris[, -5]) , type=\"raw\")\n",
    "sum(pred_labels != iris$Species)/length(pred_labels)\n"
   ]
  },
  {
   "cell_type": "markdown",
   "metadata": {},
   "source": [
    "# SQL Code Generation"
   ]
  },
  {
   "cell_type": "code",
   "execution_count": 5,
   "metadata": {},
   "outputs": [],
   "source": [
    "\n",
    "test_ws_sql_gen = function(mod) {\n",
    "    WS_URL = \"https://sklearn2sql.herokuapp.com/model\"\n",
    "    WS_URL = \"http://localhost:1888/model\"\n",
    "    model_serialized <- serialize(mod, NULL)\n",
    "    b64_data = base64encode(model_serialized)\n",
    "    data = list(Name = \"caret_rpart_test_model\", SerializedModel = b64_data , SQLDialect = \"CPP\" , Mode=\" caret\")\n",
    "    r = POST(WS_URL, body = data, encode = \"json\")\n",
    "    # print(r)\n",
    "    content = content(r)\n",
    "    # print(content)\n",
    "    lSQL = content$model$SQLGenrationResult[[1]]$SQL # content[\"model\"][\"SQLGenrationResult\"][0][\"SQL\"]\n",
    "    return(lSQL);\n",
    "}"
   ]
  },
  {
   "cell_type": "code",
   "execution_count": 6,
   "metadata": {
    "scrolled": false
   },
   "outputs": [
    {
     "name": "stdout",
     "output_type": "stream",
     "text": [
      "namespace  {\n",
      "\n",
      "\tstd::vector<std::string> get_classes(){\n",
      "\t\tstd::vector<std::string> lClasses = { \"setosa\", \"versicolor\", \"virginica\" };\n",
      "\n",
      "\t\treturn lClasses;\n",
      "\t}\n",
      "\n",
      "\tstd::vector<std::string> get_input_names(){\n",
      "\t\tstd::vector<std::string> lFeatures = { \"Feature_0\", \"Feature_1\", \"Feature_2\", \"Feature_3\" };\n",
      "\n",
      "\t\treturn lFeatures;\n",
      "\t}\n",
      "\n",
      "\tstd::vector<std::string> get_output_names(){\n",
      "\t\tstd::vector<std::string> lOutputs = { \n",
      "\t\t\t\"Score_setosa\", \"Score_versicolor\", \"Score_virginica\",\n",
      "\t\t\t\"Proba_setosa\", \"Proba_versicolor\", \"Proba_virginica\",\n",
      "\t\t\t\"LogProba_setosa\", \"LogProba_versicolor\", \"LogProba_virginica\",\n",
      "\t\t\t\"Decision\", \"DecisionProba\" };\n",
      "\n",
      "\t\treturn lOutputs;\n",
      "\t}\n",
      "\n",
      "\ttTable compute_classification_scores(std::any Feature_0, std::any Feature_1, std::any Feature_2, std::any Feature_3) {\n",
      "\t\tauto lClasses = get_classes();\n",
      "\n",
      "\t\tdouble lScore_setosa = -4.738027109733029 * relu(Feature_3 - 1.9) + -2.092082269087399 * relu(Feature_2 - 5.1) * relu(Feature_3 - 1.2) + 2.0873495080197118 * relu(Feature_2 - 4.6) + 21.024078584193393 * relu(( 4.6 - Feature_2 )) + -4.04194554524133 * relu(Feature_0 - 6.1) + -34.34749179148563 * relu(( 4.6 - Feature_2 )) * relu(Feature_3 - 0.5) + 14.946055703125918 * relu(Feature_0 - 6.1) * relu(( 1.8 - Feature_3 )) + 4.180177850392163 * relu(Feature_0 - 5.9) * relu(Feature_3 - 1.2) + 7.549142956092505 * relu(( 5.9 - Feature_0 )) * relu(Feature_3 - 1.2) + 2.1682027174695433 * relu(Feature_3 - 1.5) + -29.60869060338384;\n",
      "\n",
      "\t\tdouble lLogistic_setosa = logistic(lScore_setosa);\n",
      "\n",
      "\t\tdouble lScore_versicolor = -93.4016622906348 * relu(Feature_3 - 1.9) + -117.44331982302492 * relu(Feature_2 - 5.1) * relu(Feature_3 - 1.2) + -11.413552750327632 * relu(Feature_2 - 4.6) + -65.37573149320882 * relu(( 4.6 - Feature_2 )) + 53.465521086167485 * relu(Feature_0 - 6.1) + 558.7036116050024 * relu(( 4.6 - Feature_2 )) * relu(Feature_3 - 0.5) + -90.97222611253633 * relu(Feature_0 - 6.1) * relu(( 1.8 - Feature_3 )) + -59.231534866249895 * relu(Feature_0 - 5.9) * relu(Feature_3 - 1.2) + -243.24668020490617 * relu(( 5.9 - Feature_0 )) * relu(Feature_3 - 1.2) + -8.320388778089598 * relu(Feature_3 - 1.5) + 6.767365529353242;\n",
      "\n",
      "\t\tdouble lLogistic_versicolor = logistic(lScore_versicolor);\n",
      "\n",
      "\t\tdouble lScore_virginica = 94.25175512024305 * relu(Feature_3 - 1.9) + 117.17434268564638 * relu(Feature_2 - 5.1) * relu(Feature_3 - 1.2) + 11.413552750362134 * relu(Feature_2 - 4.6) + -6.456834006386835 * relu(( 4.6 - Feature_2 )) + -53.46552108630912 * relu(Feature_0 - 6.1) + -507.3279942582228 * relu(( 4.6 - Feature_2 )) * relu(Feature_3 - 0.5) + 90.97222611283772 * relu(Feature_0 - 6.1) * relu(( 1.8 - Feature_3 )) + 59.23153486640372 * relu(Feature_0 - 5.9) * relu(Feature_3 - 1.2) + 252.32748303060697 * relu(( 5.9 - Feature_0 )) * relu(Feature_3 - 1.2) + 8.320388778098046 * relu(Feature_3 - 1.5) + -6.767365529373679;\n",
      "\n",
      "\t\tdouble lLogistic_virginica = logistic(lScore_virginica);\n",
      "\n",
      "\n",
      "\t\ttTable lTable;\n",
      "\n",
      "\t\tlTable[\"Score\"] = { \n",
      "\t\t\tstd::any(),\n",
      "\t\t\tstd::any(),\n",
      "\t\t\tstd::any() \n",
      "\t\t} ;\n",
      "\t\tlTable[\"Proba\"] = { \n",
      "\t\t\tlLogistic_setosa / ( lLogistic_setosa + lLogistic_versicolor + lLogistic_virginica ),\n",
      "\t\t\tlLogistic_versicolor / ( lLogistic_setosa + lLogistic_versicolor + lLogistic_virginica ),\n",
      "\t\t\tlLogistic_virginica / ( lLogistic_setosa + lLogistic_versicolor + lLogistic_virginica ) \n",
      "\t\t} ;\n",
      "\t\tint lBestClass = get_arg_max( lTable[\"Proba\"] );\n",
      "\t\tauto lDecision = lClasses[lBestClass];\n",
      "\t\tlTable[\"Decision\"] = { lDecision } ;\n",
      "\t\tlTable[\"DecisionProba\"] = { lTable[\"Proba\"][lBestClass] };\n",
      "\n",
      "\t\trecompute_log_probas( lTable );\n",
      "\n",
      "\t\treturn lTable;\n",
      "\t}\n",
      "\n",
      "\ttTable compute_model_outputs_from_table( tTable const & iTable) {\n",
      "\t\ttTable lTable = compute_classification_scores(iTable.at(\"Feature_0\")[0], iTable.at(\"Feature_1\")[0], iTable.at(\"Feature_2\")[0], iTable.at(\"Feature_3\")[0]);\n",
      "\n",
      "\t\treturn lTable;\n",
      "\t}\n",
      "\n",
      "} // eof namespace \n"
     ]
    }
   ],
   "source": [
    "lModelSQL = test_ws_sql_gen(model)\n",
    "cat(lModelSQL)"
   ]
  },
  {
   "cell_type": "markdown",
   "metadata": {},
   "source": [
    "# Execute the CPP Code"
   ]
  },
  {
   "cell_type": "code",
   "execution_count": 7,
   "metadata": {},
   "outputs": [],
   "source": [
    "    write_text_to_file = function(iCPPCode, oCPPFile) {\n",
    "        fileConn<-file(oCPPFile)\n",
    "        writeLines(c(iCPPCode), fileConn)\n",
    "        close(fileConn)\n",
    "    }\n",
    "\n",
    "    add_cpp_main_function = function(iCPPCode, iCSVFile) {\n",
    "        lCPPCode = \"#include \\\"Generic.i\\\"\\n\\n\"\n",
    "        lCPPCode = paste(lCPPCode,  iCPPCode, sep=\"\")\n",
    "        lCPPCode = paste(lCPPCode, \"\\n\\nint main() {\\n\", sep=\"\")\n",
    "        lCPPCode = paste(lCPPCode, \"\\tscore_csv_file(\\\"\",  iCSVFile, \"\\\");\\n\", sep=\"\")\n",
    "        lCPPCode = paste(lCPPCode, \"\\treturn 0;\\n}\\n\", sep=\"\")\n",
    "        return(lCPPCode)\n",
    "    }\n",
    "\n",
    "    compile_cpp_code_as_executable = function(iName) {\n",
    "        lCommand = paste(\"-Wall -Wno-unused-function -std=c++17 -g -o \", iName,  \".exe \",  iName,  \".cpp\", sep=\"\")\n",
    "        cat(paste(\"EXECUTING \" , \"'\",  lCommand,  \"'\", sep=\"\"))\n",
    "        result = system2(\"g++\", args = lCommand)\n",
    "        # print(result)\n",
    "    }\n",
    "\n",
    "    execute_cpp_model = function(iName, iCSVFile) {\n",
    "        lOutName = paste(iName, \".out\", sep=\"\")\n",
    "        result2 = system2(paste(iName, \".exe\", sep=\"\") ,  args = iCSVFile, stdout=lOutName)\n",
    "        # cat(result2)\n",
    "        return(result2)\n",
    "    }\n",
    "        \n",
    "    execute_cpp_code = function(iCPPCode, iCSVFile) {\n",
    "        lTimeStr = format(Sys.time(), \"%Y-%m-%d_%H_%M_%S\")\n",
    "        lName = paste(\"/tmp/ml2cpp_r_\", \"sample_\" , lTimeStr, sep=\"\");\n",
    "        lCPPCode = add_cpp_main_function(iCPPCode, iCSVFile)\n",
    "        write_text_to_file(lCPPCode, paste(lName, \".cpp\", sep=\"\"))\n",
    "        compile_cpp_code_as_executable(lName)\n",
    "        result = execute_cpp_model(lName, iCSVFile)\n",
    "        lOutName = paste(lName, \".out\", sep=\"\")\n",
    "        return(lOutName)\n",
    "    }"
   ]
  },
  {
   "cell_type": "code",
   "execution_count": 8,
   "metadata": {},
   "outputs": [
    {
     "name": "stdout",
     "output_type": "stream",
     "text": [
      "EXECUTING '-Wall -Wno-unused-function -std=c++17 -g -o /tmp/ml2cpp_r_sample_2020-10-05_18_01_37.exe /tmp/ml2cpp_r_sample_2020-10-05_18_01_37.cpp'"
     ]
    },
    {
     "data": {
      "text/html": [
       "'/tmp/ml2cpp_r_sample_2020-10-05_18_01_37.out'"
      ],
      "text/latex": [
       "'/tmp/ml2cpp\\_r\\_sample\\_2020-10-05\\_18\\_01\\_37.out'"
      ],
      "text/markdown": [
       "'/tmp/ml2cpp_r_sample_2020-10-05_18_01_37.out'"
      ],
      "text/plain": [
       "[1] \"/tmp/ml2cpp_r_sample_2020-10-05_18_01_37.out\""
      ]
     },
     "metadata": {},
     "output_type": "display_data"
    }
   ],
   "source": [
    "dataset = iris[,-5]\n",
    "\n",
    "df_cpp_in = as.data.frame(dataset)\n",
    "# cat(names(df_cpp_in))\n",
    "\n",
    "names(df_cpp_in) = sprintf(\"Feature_%d\",0:(ncol(df_cpp_in)-1))\n",
    "\n",
    "write.csv(df_cpp_in, \"/tmp/iris2.csv\", row.names = FALSE, quote = FALSE)\n",
    "\n",
    "lOutName = execute_cpp_code(lModelSQL, \"/tmp/iris2.csv\")\n",
    "lOutName"
   ]
  },
  {
   "cell_type": "code",
   "execution_count": 9,
   "metadata": {
    "scrolled": true
   },
   "outputs": [
    {
     "data": {
      "text/html": [
       "<table>\n",
       "<caption>A data.frame: 6 × 13</caption>\n",
       "<thead>\n",
       "\t<tr><th></th><th scope=col>idx</th><th scope=col>Score_setosa</th><th scope=col>Score_versicolor</th><th scope=col>Score_virginica</th><th scope=col>Proba_setosa</th><th scope=col>Proba_versicolor</th><th scope=col>Proba_virginica</th><th scope=col>LogProba_setosa</th><th scope=col>LogProba_versicolor</th><th scope=col>LogProba_virginica</th><th scope=col>Decision</th><th scope=col>DecisionProba</th><th scope=col>KEY</th></tr>\n",
       "\t<tr><th></th><th scope=col>&lt;int&gt;</th><th scope=col>&lt;lgl&gt;</th><th scope=col>&lt;lgl&gt;</th><th scope=col>&lt;lgl&gt;</th><th scope=col>&lt;dbl&gt;</th><th scope=col>&lt;dbl&gt;</th><th scope=col>&lt;dbl&gt;</th><th scope=col>&lt;dbl&gt;</th><th scope=col>&lt;dbl&gt;</th><th scope=col>&lt;dbl&gt;</th><th scope=col>&lt;chr&gt;</th><th scope=col>&lt;dbl&gt;</th><th scope=col>&lt;int&gt;</th></tr>\n",
       "</thead>\n",
       "<tbody>\n",
       "\t<tr><th scope=row>1</th><td>0</td><td>NA</td><td>NA</td><td>NA</td><td>1</td><td>0</td><td>1.22e-12</td><td>-1.22e-12</td><td>-32.23619</td><td>-27.42923</td><td>setosa</td><td>1</td><td>1</td></tr>\n",
       "\t<tr><th scope=row>2</th><td>1</td><td>NA</td><td>NA</td><td>NA</td><td>1</td><td>0</td><td>1.22e-12</td><td>-1.22e-12</td><td>-32.23619</td><td>-27.42923</td><td>setosa</td><td>1</td><td>2</td></tr>\n",
       "\t<tr><th scope=row>3</th><td>2</td><td>NA</td><td>NA</td><td>NA</td><td>1</td><td>0</td><td>6.40e-13</td><td>-6.40e-13</td><td>-32.23619</td><td>-28.07492</td><td>setosa</td><td>1</td><td>3</td></tr>\n",
       "\t<tr><th scope=row>4</th><td>3</td><td>NA</td><td>NA</td><td>NA</td><td>1</td><td>0</td><td>2.33e-12</td><td>-2.33e-12</td><td>-32.23619</td><td>-26.78355</td><td>setosa</td><td>1</td><td>4</td></tr>\n",
       "\t<tr><th scope=row>5</th><td>4</td><td>NA</td><td>NA</td><td>NA</td><td>1</td><td>0</td><td>1.22e-12</td><td>-1.22e-12</td><td>-32.23619</td><td>-27.42923</td><td>setosa</td><td>1</td><td>5</td></tr>\n",
       "\t<tr><th scope=row>6</th><td>5</td><td>NA</td><td>NA</td><td>NA</td><td>1</td><td>0</td><td>8.49e-12</td><td>-8.49e-12</td><td>-32.23619</td><td>-25.49218</td><td>setosa</td><td>1</td><td>6</td></tr>\n",
       "</tbody>\n",
       "</table>\n"
      ],
      "text/latex": [
       "A data.frame: 6 × 13\n",
       "\\begin{tabular}{r|lllllllllllll}\n",
       "  & idx & Score\\_setosa & Score\\_versicolor & Score\\_virginica & Proba\\_setosa & Proba\\_versicolor & Proba\\_virginica & LogProba\\_setosa & LogProba\\_versicolor & LogProba\\_virginica & Decision & DecisionProba & KEY\\\\\n",
       "  & <int> & <lgl> & <lgl> & <lgl> & <dbl> & <dbl> & <dbl> & <dbl> & <dbl> & <dbl> & <chr> & <dbl> & <int>\\\\\n",
       "\\hline\n",
       "\t1 & 0 & NA & NA & NA & 1 & 0 & 1.22e-12 & -1.22e-12 & -32.23619 & -27.42923 & setosa & 1 & 1\\\\\n",
       "\t2 & 1 & NA & NA & NA & 1 & 0 & 1.22e-12 & -1.22e-12 & -32.23619 & -27.42923 & setosa & 1 & 2\\\\\n",
       "\t3 & 2 & NA & NA & NA & 1 & 0 & 6.40e-13 & -6.40e-13 & -32.23619 & -28.07492 & setosa & 1 & 3\\\\\n",
       "\t4 & 3 & NA & NA & NA & 1 & 0 & 2.33e-12 & -2.33e-12 & -32.23619 & -26.78355 & setosa & 1 & 4\\\\\n",
       "\t5 & 4 & NA & NA & NA & 1 & 0 & 1.22e-12 & -1.22e-12 & -32.23619 & -27.42923 & setosa & 1 & 5\\\\\n",
       "\t6 & 5 & NA & NA & NA & 1 & 0 & 8.49e-12 & -8.49e-12 & -32.23619 & -25.49218 & setosa & 1 & 6\\\\\n",
       "\\end{tabular}\n"
      ],
      "text/markdown": [
       "\n",
       "A data.frame: 6 × 13\n",
       "\n",
       "| <!--/--> | idx &lt;int&gt; | Score_setosa &lt;lgl&gt; | Score_versicolor &lt;lgl&gt; | Score_virginica &lt;lgl&gt; | Proba_setosa &lt;dbl&gt; | Proba_versicolor &lt;dbl&gt; | Proba_virginica &lt;dbl&gt; | LogProba_setosa &lt;dbl&gt; | LogProba_versicolor &lt;dbl&gt; | LogProba_virginica &lt;dbl&gt; | Decision &lt;chr&gt; | DecisionProba &lt;dbl&gt; | KEY &lt;int&gt; |\n",
       "|---|---|---|---|---|---|---|---|---|---|---|---|---|---|\n",
       "| 1 | 0 | NA | NA | NA | 1 | 0 | 1.22e-12 | -1.22e-12 | -32.23619 | -27.42923 | setosa | 1 | 1 |\n",
       "| 2 | 1 | NA | NA | NA | 1 | 0 | 1.22e-12 | -1.22e-12 | -32.23619 | -27.42923 | setosa | 1 | 2 |\n",
       "| 3 | 2 | NA | NA | NA | 1 | 0 | 6.40e-13 | -6.40e-13 | -32.23619 | -28.07492 | setosa | 1 | 3 |\n",
       "| 4 | 3 | NA | NA | NA | 1 | 0 | 2.33e-12 | -2.33e-12 | -32.23619 | -26.78355 | setosa | 1 | 4 |\n",
       "| 5 | 4 | NA | NA | NA | 1 | 0 | 1.22e-12 | -1.22e-12 | -32.23619 | -27.42923 | setosa | 1 | 5 |\n",
       "| 6 | 5 | NA | NA | NA | 1 | 0 | 8.49e-12 | -8.49e-12 | -32.23619 | -25.49218 | setosa | 1 | 6 |\n",
       "\n"
      ],
      "text/plain": [
       "  idx Score_setosa Score_versicolor Score_virginica Proba_setosa\n",
       "1 0   NA           NA               NA              1           \n",
       "2 1   NA           NA               NA              1           \n",
       "3 2   NA           NA               NA              1           \n",
       "4 3   NA           NA               NA              1           \n",
       "5 4   NA           NA               NA              1           \n",
       "6 5   NA           NA               NA              1           \n",
       "  Proba_versicolor Proba_virginica LogProba_setosa LogProba_versicolor\n",
       "1 0                1.22e-12        -1.22e-12       -32.23619          \n",
       "2 0                1.22e-12        -1.22e-12       -32.23619          \n",
       "3 0                6.40e-13        -6.40e-13       -32.23619          \n",
       "4 0                2.33e-12        -2.33e-12       -32.23619          \n",
       "5 0                1.22e-12        -1.22e-12       -32.23619          \n",
       "6 0                8.49e-12        -8.49e-12       -32.23619          \n",
       "  LogProba_virginica Decision DecisionProba KEY\n",
       "1 -27.42923          setosa   1             1  \n",
       "2 -27.42923          setosa   1             2  \n",
       "3 -28.07492          setosa   1             3  \n",
       "4 -26.78355          setosa   1             4  \n",
       "5 -27.42923          setosa   1             5  \n",
       "6 -25.49218          setosa   1             6  "
      ]
     },
     "metadata": {},
     "output_type": "display_data"
    }
   ],
   "source": [
    "df_cpp_out <- read.csv(file = lOutName)\n",
    "df_cpp_out$KEY = seq.int(nrow(df_cpp_out))\n",
    "head(df_cpp_out)"
   ]
  },
  {
   "cell_type": "markdown",
   "metadata": {},
   "source": [
    "# R Caret RandomForest Output"
   ]
  },
  {
   "cell_type": "code",
   "execution_count": 10,
   "metadata": {},
   "outputs": [
    {
     "data": {
      "text/html": [
       "<table>\n",
       "<caption>A data.frame: 6 × 12</caption>\n",
       "<thead>\n",
       "\t<tr><th></th><th scope=col>Proba_setosa</th><th scope=col>Proba_versicolor</th><th scope=col>Proba_virginica</th><th scope=col>KEY</th><th scope=col>Score_setosa</th><th scope=col>Score_versicolor</th><th scope=col>Score_virginica</th><th scope=col>LogProba_setosa</th><th scope=col>LogProba_versicolor</th><th scope=col>LogProba_virginica</th><th scope=col>Decision</th><th scope=col>DecisionProba</th></tr>\n",
       "\t<tr><th></th><th scope=col>&lt;dbl&gt;</th><th scope=col>&lt;dbl&gt;</th><th scope=col>&lt;dbl&gt;</th><th scope=col>&lt;int&gt;</th><th scope=col>&lt;lgl&gt;</th><th scope=col>&lt;lgl&gt;</th><th scope=col>&lt;lgl&gt;</th><th scope=col>&lt;dbl&gt;</th><th scope=col>&lt;dbl&gt;</th><th scope=col>&lt;dbl&gt;</th><th scope=col>&lt;fct&gt;</th><th scope=col>&lt;dbl&gt;</th></tr>\n",
       "</thead>\n",
       "<tbody>\n",
       "\t<tr><th scope=row>1</th><td>1</td><td>2.220446e-16</td><td>1.223587e-12</td><td>1</td><td>NA</td><td>NA</td><td>NA</td><td>-1.223910e-12</td><td>-36.04365</td><td>-27.42923</td><td>setosa</td><td>1</td></tr>\n",
       "\t<tr><th scope=row>2</th><td>1</td><td>2.220446e-16</td><td>1.223587e-12</td><td>2</td><td>NA</td><td>NA</td><td>NA</td><td>-1.223910e-12</td><td>-36.04365</td><td>-27.42923</td><td>setosa</td><td>1</td></tr>\n",
       "\t<tr><th scope=row>3</th><td>1</td><td>2.220446e-16</td><td>6.415317e-13</td><td>3</td><td>NA</td><td>NA</td><td>NA</td><td>-6.417089e-13</td><td>-36.04365</td><td>-28.07492</td><td>setosa</td><td>1</td></tr>\n",
       "\t<tr><th scope=row>4</th><td>1</td><td>2.220446e-16</td><td>2.333735e-12</td><td>4</td><td>NA</td><td>NA</td><td>NA</td><td>-2.333911e-12</td><td>-36.04365</td><td>-26.78355</td><td>setosa</td><td>1</td></tr>\n",
       "\t<tr><th scope=row>5</th><td>1</td><td>2.220446e-16</td><td>1.223587e-12</td><td>5</td><td>NA</td><td>NA</td><td>NA</td><td>-1.223910e-12</td><td>-36.04365</td><td>-27.42923</td><td>setosa</td><td>1</td></tr>\n",
       "\t<tr><th scope=row>6</th><td>1</td><td>2.220446e-16</td><td>8.489558e-12</td><td>6</td><td>NA</td><td>NA</td><td>NA</td><td>-8.489875e-12</td><td>-36.04365</td><td>-25.49218</td><td>setosa</td><td>1</td></tr>\n",
       "</tbody>\n",
       "</table>\n"
      ],
      "text/latex": [
       "A data.frame: 6 × 12\n",
       "\\begin{tabular}{r|llllllllllll}\n",
       "  & Proba\\_setosa & Proba\\_versicolor & Proba\\_virginica & KEY & Score\\_setosa & Score\\_versicolor & Score\\_virginica & LogProba\\_setosa & LogProba\\_versicolor & LogProba\\_virginica & Decision & DecisionProba\\\\\n",
       "  & <dbl> & <dbl> & <dbl> & <int> & <lgl> & <lgl> & <lgl> & <dbl> & <dbl> & <dbl> & <fct> & <dbl>\\\\\n",
       "\\hline\n",
       "\t1 & 1 & 2.220446e-16 & 1.223587e-12 & 1 & NA & NA & NA & -1.223910e-12 & -36.04365 & -27.42923 & setosa & 1\\\\\n",
       "\t2 & 1 & 2.220446e-16 & 1.223587e-12 & 2 & NA & NA & NA & -1.223910e-12 & -36.04365 & -27.42923 & setosa & 1\\\\\n",
       "\t3 & 1 & 2.220446e-16 & 6.415317e-13 & 3 & NA & NA & NA & -6.417089e-13 & -36.04365 & -28.07492 & setosa & 1\\\\\n",
       "\t4 & 1 & 2.220446e-16 & 2.333735e-12 & 4 & NA & NA & NA & -2.333911e-12 & -36.04365 & -26.78355 & setosa & 1\\\\\n",
       "\t5 & 1 & 2.220446e-16 & 1.223587e-12 & 5 & NA & NA & NA & -1.223910e-12 & -36.04365 & -27.42923 & setosa & 1\\\\\n",
       "\t6 & 1 & 2.220446e-16 & 8.489558e-12 & 6 & NA & NA & NA & -8.489875e-12 & -36.04365 & -25.49218 & setosa & 1\\\\\n",
       "\\end{tabular}\n"
      ],
      "text/markdown": [
       "\n",
       "A data.frame: 6 × 12\n",
       "\n",
       "| <!--/--> | Proba_setosa &lt;dbl&gt; | Proba_versicolor &lt;dbl&gt; | Proba_virginica &lt;dbl&gt; | KEY &lt;int&gt; | Score_setosa &lt;lgl&gt; | Score_versicolor &lt;lgl&gt; | Score_virginica &lt;lgl&gt; | LogProba_setosa &lt;dbl&gt; | LogProba_versicolor &lt;dbl&gt; | LogProba_virginica &lt;dbl&gt; | Decision &lt;fct&gt; | DecisionProba &lt;dbl&gt; |\n",
       "|---|---|---|---|---|---|---|---|---|---|---|---|---|\n",
       "| 1 | 1 | 2.220446e-16 | 1.223587e-12 | 1 | NA | NA | NA | -1.223910e-12 | -36.04365 | -27.42923 | setosa | 1 |\n",
       "| 2 | 1 | 2.220446e-16 | 1.223587e-12 | 2 | NA | NA | NA | -1.223910e-12 | -36.04365 | -27.42923 | setosa | 1 |\n",
       "| 3 | 1 | 2.220446e-16 | 6.415317e-13 | 3 | NA | NA | NA | -6.417089e-13 | -36.04365 | -28.07492 | setosa | 1 |\n",
       "| 4 | 1 | 2.220446e-16 | 2.333735e-12 | 4 | NA | NA | NA | -2.333911e-12 | -36.04365 | -26.78355 | setosa | 1 |\n",
       "| 5 | 1 | 2.220446e-16 | 1.223587e-12 | 5 | NA | NA | NA | -1.223910e-12 | -36.04365 | -27.42923 | setosa | 1 |\n",
       "| 6 | 1 | 2.220446e-16 | 8.489558e-12 | 6 | NA | NA | NA | -8.489875e-12 | -36.04365 | -25.49218 | setosa | 1 |\n",
       "\n"
      ],
      "text/plain": [
       "  Proba_setosa Proba_versicolor Proba_virginica KEY Score_setosa\n",
       "1 1            2.220446e-16     1.223587e-12    1   NA          \n",
       "2 1            2.220446e-16     1.223587e-12    2   NA          \n",
       "3 1            2.220446e-16     6.415317e-13    3   NA          \n",
       "4 1            2.220446e-16     2.333735e-12    4   NA          \n",
       "5 1            2.220446e-16     1.223587e-12    5   NA          \n",
       "6 1            2.220446e-16     8.489558e-12    6   NA          \n",
       "  Score_versicolor Score_virginica LogProba_setosa LogProba_versicolor\n",
       "1 NA               NA              -1.223910e-12   -36.04365          \n",
       "2 NA               NA              -1.223910e-12   -36.04365          \n",
       "3 NA               NA              -6.417089e-13   -36.04365          \n",
       "4 NA               NA              -2.333911e-12   -36.04365          \n",
       "5 NA               NA              -1.223910e-12   -36.04365          \n",
       "6 NA               NA              -8.489875e-12   -36.04365          \n",
       "  LogProba_virginica Decision DecisionProba\n",
       "1 -27.42923          setosa   1            \n",
       "2 -27.42923          setosa   1            \n",
       "3 -28.07492          setosa   1            \n",
       "4 -26.78355          setosa   1            \n",
       "5 -27.42923          setosa   1            \n",
       "6 -25.49218          setosa   1            "
      ]
     },
     "metadata": {},
     "output_type": "display_data"
    }
   ],
   "source": [
    "pred_proba  =  predict(model, as.matrix(iris[,-5]), type = \"prob\")\n",
    "df_r_out = data.frame(pred_proba)\n",
    "names(df_r_out) = sprintf(\"Proba_%s\",model$levels)\n",
    "\n",
    "df_r_out$KEY = seq.int(nrow(df_r_out))\n",
    "df_r_out$Score_setosa  =  NA\n",
    "df_r_out$Score_versicolor  =  NA\n",
    "df_r_out$Score_virginica  =  NA\n",
    "df_r_out$LogProba_setosa  =  log(df_r_out$Proba_setosa)\n",
    "df_r_out$LogProba_versicolor =  log(df_r_out$Proba_versicolor)\n",
    "df_r_out$LogProba_virginica  =  log(df_r_out$Proba_virginica)\n",
    "df_r_out$Decision =   predict(model, as.matrix(iris[,-5]), type = \"raw\")\n",
    "df_r_out$DecisionProba =  apply(pred_proba, 1, function(x) max(x))\n",
    "head(df_r_out)\n",
    "\n"
   ]
  },
  {
   "cell_type": "markdown",
   "metadata": {},
   "source": [
    "# Compare R and SQL output"
   ]
  },
  {
   "cell_type": "code",
   "execution_count": 11,
   "metadata": {},
   "outputs": [
    {
     "data": {
      "text/html": [
       "<table>\n",
       "<caption>A data.frame: 6 × 24</caption>\n",
       "<thead>\n",
       "\t<tr><th></th><th scope=col>KEY</th><th scope=col>Proba_setosa_1</th><th scope=col>Proba_versicolor_1</th><th scope=col>Proba_virginica_1</th><th scope=col>Score_setosa_1</th><th scope=col>Score_versicolor_1</th><th scope=col>Score_virginica_1</th><th scope=col>LogProba_setosa_1</th><th scope=col>LogProba_versicolor_1</th><th scope=col>LogProba_virginica_1</th><th scope=col>⋯</th><th scope=col>Score_versicolor_2</th><th scope=col>Score_virginica_2</th><th scope=col>Proba_setosa_2</th><th scope=col>Proba_versicolor_2</th><th scope=col>Proba_virginica_2</th><th scope=col>LogProba_setosa_2</th><th scope=col>LogProba_versicolor_2</th><th scope=col>LogProba_virginica_2</th><th scope=col>Decision_2</th><th scope=col>DecisionProba_2</th></tr>\n",
       "\t<tr><th></th><th scope=col>&lt;int&gt;</th><th scope=col>&lt;dbl&gt;</th><th scope=col>&lt;dbl&gt;</th><th scope=col>&lt;dbl&gt;</th><th scope=col>&lt;lgl&gt;</th><th scope=col>&lt;lgl&gt;</th><th scope=col>&lt;lgl&gt;</th><th scope=col>&lt;dbl&gt;</th><th scope=col>&lt;dbl&gt;</th><th scope=col>&lt;dbl&gt;</th><th scope=col>⋯</th><th scope=col>&lt;lgl&gt;</th><th scope=col>&lt;lgl&gt;</th><th scope=col>&lt;dbl&gt;</th><th scope=col>&lt;dbl&gt;</th><th scope=col>&lt;dbl&gt;</th><th scope=col>&lt;dbl&gt;</th><th scope=col>&lt;dbl&gt;</th><th scope=col>&lt;dbl&gt;</th><th scope=col>&lt;chr&gt;</th><th scope=col>&lt;dbl&gt;</th></tr>\n",
       "</thead>\n",
       "<tbody>\n",
       "\t<tr><th scope=row>1</th><td>1</td><td>1</td><td>2.220446e-16</td><td>1.223587e-12</td><td>NA</td><td>NA</td><td>NA</td><td>-1.223910e-12</td><td>-36.04365</td><td>-27.42923</td><td>⋯</td><td>NA</td><td>NA</td><td>1</td><td>0</td><td>1.22e-12</td><td>-1.22e-12</td><td>-32.23619</td><td>-27.42923</td><td>setosa</td><td>1</td></tr>\n",
       "\t<tr><th scope=row>2</th><td>2</td><td>1</td><td>2.220446e-16</td><td>1.223587e-12</td><td>NA</td><td>NA</td><td>NA</td><td>-1.223910e-12</td><td>-36.04365</td><td>-27.42923</td><td>⋯</td><td>NA</td><td>NA</td><td>1</td><td>0</td><td>1.22e-12</td><td>-1.22e-12</td><td>-32.23619</td><td>-27.42923</td><td>setosa</td><td>1</td></tr>\n",
       "\t<tr><th scope=row>3</th><td>3</td><td>1</td><td>2.220446e-16</td><td>6.415317e-13</td><td>NA</td><td>NA</td><td>NA</td><td>-6.417089e-13</td><td>-36.04365</td><td>-28.07492</td><td>⋯</td><td>NA</td><td>NA</td><td>1</td><td>0</td><td>6.40e-13</td><td>-6.40e-13</td><td>-32.23619</td><td>-28.07492</td><td>setosa</td><td>1</td></tr>\n",
       "\t<tr><th scope=row>4</th><td>4</td><td>1</td><td>2.220446e-16</td><td>2.333735e-12</td><td>NA</td><td>NA</td><td>NA</td><td>-2.333911e-12</td><td>-36.04365</td><td>-26.78355</td><td>⋯</td><td>NA</td><td>NA</td><td>1</td><td>0</td><td>2.33e-12</td><td>-2.33e-12</td><td>-32.23619</td><td>-26.78355</td><td>setosa</td><td>1</td></tr>\n",
       "\t<tr><th scope=row>5</th><td>5</td><td>1</td><td>2.220446e-16</td><td>1.223587e-12</td><td>NA</td><td>NA</td><td>NA</td><td>-1.223910e-12</td><td>-36.04365</td><td>-27.42923</td><td>⋯</td><td>NA</td><td>NA</td><td>1</td><td>0</td><td>1.22e-12</td><td>-1.22e-12</td><td>-32.23619</td><td>-27.42923</td><td>setosa</td><td>1</td></tr>\n",
       "\t<tr><th scope=row>6</th><td>6</td><td>1</td><td>2.220446e-16</td><td>8.489558e-12</td><td>NA</td><td>NA</td><td>NA</td><td>-8.489875e-12</td><td>-36.04365</td><td>-25.49218</td><td>⋯</td><td>NA</td><td>NA</td><td>1</td><td>0</td><td>8.49e-12</td><td>-8.49e-12</td><td>-32.23619</td><td>-25.49218</td><td>setosa</td><td>1</td></tr>\n",
       "</tbody>\n",
       "</table>\n"
      ],
      "text/latex": [
       "A data.frame: 6 × 24\n",
       "\\begin{tabular}{r|lllllllllllllllllllll}\n",
       "  & KEY & Proba\\_setosa\\_1 & Proba\\_versicolor\\_1 & Proba\\_virginica\\_1 & Score\\_setosa\\_1 & Score\\_versicolor\\_1 & Score\\_virginica\\_1 & LogProba\\_setosa\\_1 & LogProba\\_versicolor\\_1 & LogProba\\_virginica\\_1 & ⋯ & Score\\_versicolor\\_2 & Score\\_virginica\\_2 & Proba\\_setosa\\_2 & Proba\\_versicolor\\_2 & Proba\\_virginica\\_2 & LogProba\\_setosa\\_2 & LogProba\\_versicolor\\_2 & LogProba\\_virginica\\_2 & Decision\\_2 & DecisionProba\\_2\\\\\n",
       "  & <int> & <dbl> & <dbl> & <dbl> & <lgl> & <lgl> & <lgl> & <dbl> & <dbl> & <dbl> & ⋯ & <lgl> & <lgl> & <dbl> & <dbl> & <dbl> & <dbl> & <dbl> & <dbl> & <chr> & <dbl>\\\\\n",
       "\\hline\n",
       "\t1 & 1 & 1 & 2.220446e-16 & 1.223587e-12 & NA & NA & NA & -1.223910e-12 & -36.04365 & -27.42923 & ⋯ & NA & NA & 1 & 0 & 1.22e-12 & -1.22e-12 & -32.23619 & -27.42923 & setosa & 1\\\\\n",
       "\t2 & 2 & 1 & 2.220446e-16 & 1.223587e-12 & NA & NA & NA & -1.223910e-12 & -36.04365 & -27.42923 & ⋯ & NA & NA & 1 & 0 & 1.22e-12 & -1.22e-12 & -32.23619 & -27.42923 & setosa & 1\\\\\n",
       "\t3 & 3 & 1 & 2.220446e-16 & 6.415317e-13 & NA & NA & NA & -6.417089e-13 & -36.04365 & -28.07492 & ⋯ & NA & NA & 1 & 0 & 6.40e-13 & -6.40e-13 & -32.23619 & -28.07492 & setosa & 1\\\\\n",
       "\t4 & 4 & 1 & 2.220446e-16 & 2.333735e-12 & NA & NA & NA & -2.333911e-12 & -36.04365 & -26.78355 & ⋯ & NA & NA & 1 & 0 & 2.33e-12 & -2.33e-12 & -32.23619 & -26.78355 & setosa & 1\\\\\n",
       "\t5 & 5 & 1 & 2.220446e-16 & 1.223587e-12 & NA & NA & NA & -1.223910e-12 & -36.04365 & -27.42923 & ⋯ & NA & NA & 1 & 0 & 1.22e-12 & -1.22e-12 & -32.23619 & -27.42923 & setosa & 1\\\\\n",
       "\t6 & 6 & 1 & 2.220446e-16 & 8.489558e-12 & NA & NA & NA & -8.489875e-12 & -36.04365 & -25.49218 & ⋯ & NA & NA & 1 & 0 & 8.49e-12 & -8.49e-12 & -32.23619 & -25.49218 & setosa & 1\\\\\n",
       "\\end{tabular}\n"
      ],
      "text/markdown": [
       "\n",
       "A data.frame: 6 × 24\n",
       "\n",
       "| <!--/--> | KEY &lt;int&gt; | Proba_setosa_1 &lt;dbl&gt; | Proba_versicolor_1 &lt;dbl&gt; | Proba_virginica_1 &lt;dbl&gt; | Score_setosa_1 &lt;lgl&gt; | Score_versicolor_1 &lt;lgl&gt; | Score_virginica_1 &lt;lgl&gt; | LogProba_setosa_1 &lt;dbl&gt; | LogProba_versicolor_1 &lt;dbl&gt; | LogProba_virginica_1 &lt;dbl&gt; | ⋯ ⋯ | Score_versicolor_2 &lt;lgl&gt; | Score_virginica_2 &lt;lgl&gt; | Proba_setosa_2 &lt;dbl&gt; | Proba_versicolor_2 &lt;dbl&gt; | Proba_virginica_2 &lt;dbl&gt; | LogProba_setosa_2 &lt;dbl&gt; | LogProba_versicolor_2 &lt;dbl&gt; | LogProba_virginica_2 &lt;dbl&gt; | Decision_2 &lt;chr&gt; | DecisionProba_2 &lt;dbl&gt; |\n",
       "|---|---|---|---|---|---|---|---|---|---|---|---|---|---|---|---|---|---|---|---|---|---|\n",
       "| 1 | 1 | 1 | 2.220446e-16 | 1.223587e-12 | NA | NA | NA | -1.223910e-12 | -36.04365 | -27.42923 | ⋯ | NA | NA | 1 | 0 | 1.22e-12 | -1.22e-12 | -32.23619 | -27.42923 | setosa | 1 |\n",
       "| 2 | 2 | 1 | 2.220446e-16 | 1.223587e-12 | NA | NA | NA | -1.223910e-12 | -36.04365 | -27.42923 | ⋯ | NA | NA | 1 | 0 | 1.22e-12 | -1.22e-12 | -32.23619 | -27.42923 | setosa | 1 |\n",
       "| 3 | 3 | 1 | 2.220446e-16 | 6.415317e-13 | NA | NA | NA | -6.417089e-13 | -36.04365 | -28.07492 | ⋯ | NA | NA | 1 | 0 | 6.40e-13 | -6.40e-13 | -32.23619 | -28.07492 | setosa | 1 |\n",
       "| 4 | 4 | 1 | 2.220446e-16 | 2.333735e-12 | NA | NA | NA | -2.333911e-12 | -36.04365 | -26.78355 | ⋯ | NA | NA | 1 | 0 | 2.33e-12 | -2.33e-12 | -32.23619 | -26.78355 | setosa | 1 |\n",
       "| 5 | 5 | 1 | 2.220446e-16 | 1.223587e-12 | NA | NA | NA | -1.223910e-12 | -36.04365 | -27.42923 | ⋯ | NA | NA | 1 | 0 | 1.22e-12 | -1.22e-12 | -32.23619 | -27.42923 | setosa | 1 |\n",
       "| 6 | 6 | 1 | 2.220446e-16 | 8.489558e-12 | NA | NA | NA | -8.489875e-12 | -36.04365 | -25.49218 | ⋯ | NA | NA | 1 | 0 | 8.49e-12 | -8.49e-12 | -32.23619 | -25.49218 | setosa | 1 |\n",
       "\n"
      ],
      "text/plain": [
       "  KEY Proba_setosa_1 Proba_versicolor_1 Proba_virginica_1 Score_setosa_1\n",
       "1 1   1              2.220446e-16       1.223587e-12      NA            \n",
       "2 2   1              2.220446e-16       1.223587e-12      NA            \n",
       "3 3   1              2.220446e-16       6.415317e-13      NA            \n",
       "4 4   1              2.220446e-16       2.333735e-12      NA            \n",
       "5 5   1              2.220446e-16       1.223587e-12      NA            \n",
       "6 6   1              2.220446e-16       8.489558e-12      NA            \n",
       "  Score_versicolor_1 Score_virginica_1 LogProba_setosa_1 LogProba_versicolor_1\n",
       "1 NA                 NA                -1.223910e-12     -36.04365            \n",
       "2 NA                 NA                -1.223910e-12     -36.04365            \n",
       "3 NA                 NA                -6.417089e-13     -36.04365            \n",
       "4 NA                 NA                -2.333911e-12     -36.04365            \n",
       "5 NA                 NA                -1.223910e-12     -36.04365            \n",
       "6 NA                 NA                -8.489875e-12     -36.04365            \n",
       "  LogProba_virginica_1 ⋯ Score_versicolor_2 Score_virginica_2 Proba_setosa_2\n",
       "1 -27.42923            ⋯ NA                 NA                1             \n",
       "2 -27.42923            ⋯ NA                 NA                1             \n",
       "3 -28.07492            ⋯ NA                 NA                1             \n",
       "4 -26.78355            ⋯ NA                 NA                1             \n",
       "5 -27.42923            ⋯ NA                 NA                1             \n",
       "6 -25.49218            ⋯ NA                 NA                1             \n",
       "  Proba_versicolor_2 Proba_virginica_2 LogProba_setosa_2 LogProba_versicolor_2\n",
       "1 0                  1.22e-12          -1.22e-12         -32.23619            \n",
       "2 0                  1.22e-12          -1.22e-12         -32.23619            \n",
       "3 0                  6.40e-13          -6.40e-13         -32.23619            \n",
       "4 0                  2.33e-12          -2.33e-12         -32.23619            \n",
       "5 0                  1.22e-12          -1.22e-12         -32.23619            \n",
       "6 0                  8.49e-12          -8.49e-12         -32.23619            \n",
       "  LogProba_virginica_2 Decision_2 DecisionProba_2\n",
       "1 -27.42923            setosa     1              \n",
       "2 -27.42923            setosa     1              \n",
       "3 -28.07492            setosa     1              \n",
       "4 -26.78355            setosa     1              \n",
       "5 -27.42923            setosa     1              \n",
       "6 -25.49218            setosa     1              "
      ]
     },
     "metadata": {},
     "output_type": "display_data"
    }
   ],
   "source": [
    "df_merge = merge(x = df_r_out, y = df_cpp_out, by = \"KEY\", all = TRUE, , suffixes = c(\"_1\",\"_2\"))\n",
    "head(df_merge)"
   ]
  },
  {
   "cell_type": "code",
   "execution_count": null,
   "metadata": {},
   "outputs": [],
   "source": []
  },
  {
   "cell_type": "code",
   "execution_count": 12,
   "metadata": {},
   "outputs": [
    {
     "name": "stderr",
     "output_type": "stream",
     "text": [
      "Warning message in cbind(parts$left, ellip_h, parts$right, deparse.level = 0L):\n",
      "“number of rows of result is not a multiple of vector length (arg 2)”\n",
      "Warning message in cbind(parts$left, ellip_h, parts$right, deparse.level = 0L):\n",
      "“number of rows of result is not a multiple of vector length (arg 2)”\n",
      "Warning message in cbind(parts$left, ellip_h, parts$right, deparse.level = 0L):\n",
      "“number of rows of result is not a multiple of vector length (arg 2)”\n",
      "Warning message in cbind(parts$left, ellip_h, parts$right, deparse.level = 0L):\n",
      "“number of rows of result is not a multiple of vector length (arg 2)”\n"
     ]
    },
    {
     "data": {
      "text/html": [
       "<table>\n",
       "<caption>A data.frame: 0 × 24</caption>\n",
       "<thead>\n",
       "\t<tr><th scope=col>KEY</th><th scope=col>Proba_setosa_1</th><th scope=col>Proba_versicolor_1</th><th scope=col>Proba_virginica_1</th><th scope=col>Score_setosa_1</th><th scope=col>Score_versicolor_1</th><th scope=col>Score_virginica_1</th><th scope=col>LogProba_setosa_1</th><th scope=col>LogProba_versicolor_1</th><th scope=col>LogProba_virginica_1</th><th scope=col>⋯</th><th scope=col>Score_versicolor_2</th><th scope=col>Score_virginica_2</th><th scope=col>Proba_setosa_2</th><th scope=col>Proba_versicolor_2</th><th scope=col>Proba_virginica_2</th><th scope=col>LogProba_setosa_2</th><th scope=col>LogProba_versicolor_2</th><th scope=col>LogProba_virginica_2</th><th scope=col>Decision_2</th><th scope=col>DecisionProba_2</th></tr>\n",
       "\t<tr><th scope=col>&lt;int&gt;</th><th scope=col>&lt;dbl&gt;</th><th scope=col>&lt;dbl&gt;</th><th scope=col>&lt;dbl&gt;</th><th scope=col>&lt;lgl&gt;</th><th scope=col>&lt;lgl&gt;</th><th scope=col>&lt;lgl&gt;</th><th scope=col>&lt;dbl&gt;</th><th scope=col>&lt;dbl&gt;</th><th scope=col>&lt;dbl&gt;</th><th scope=col>⋯</th><th scope=col>&lt;lgl&gt;</th><th scope=col>&lt;lgl&gt;</th><th scope=col>&lt;dbl&gt;</th><th scope=col>&lt;dbl&gt;</th><th scope=col>&lt;dbl&gt;</th><th scope=col>&lt;dbl&gt;</th><th scope=col>&lt;dbl&gt;</th><th scope=col>&lt;dbl&gt;</th><th scope=col>&lt;chr&gt;</th><th scope=col>&lt;dbl&gt;</th></tr>\n",
       "</thead>\n",
       "<tbody>\n",
       "</tbody>\n",
       "</table>\n"
      ],
      "text/latex": [
       "A data.frame: 0 × 24\n",
       "\\begin{tabular}{lllllllllllllllllllll}\n",
       " KEY & Proba\\_setosa\\_1 & Proba\\_versicolor\\_1 & Proba\\_virginica\\_1 & Score\\_setosa\\_1 & Score\\_versicolor\\_1 & Score\\_virginica\\_1 & LogProba\\_setosa\\_1 & LogProba\\_versicolor\\_1 & LogProba\\_virginica\\_1 & ⋯ & Score\\_versicolor\\_2 & Score\\_virginica\\_2 & Proba\\_setosa\\_2 & Proba\\_versicolor\\_2 & Proba\\_virginica\\_2 & LogProba\\_setosa\\_2 & LogProba\\_versicolor\\_2 & LogProba\\_virginica\\_2 & Decision\\_2 & DecisionProba\\_2\\\\\n",
       " <int> & <dbl> & <dbl> & <dbl> & <lgl> & <lgl> & <lgl> & <dbl> & <dbl> & <dbl> & ⋯ & <lgl> & <lgl> & <dbl> & <dbl> & <dbl> & <dbl> & <dbl> & <dbl> & <chr> & <dbl>\\\\\n",
       "\\hline\n",
       "\\end{tabular}\n"
      ],
      "text/markdown": [
       "\n",
       "A data.frame: 0 × 24\n",
       "\n",
       "| KEY &lt;int&gt; | Proba_setosa_1 &lt;dbl&gt; | Proba_versicolor_1 &lt;dbl&gt; | Proba_virginica_1 &lt;dbl&gt; | Score_setosa_1 &lt;lgl&gt; | Score_versicolor_1 &lt;lgl&gt; | Score_virginica_1 &lt;lgl&gt; | LogProba_setosa_1 &lt;dbl&gt; | LogProba_versicolor_1 &lt;dbl&gt; | LogProba_virginica_1 &lt;dbl&gt; | ⋯ ⋯ | Score_versicolor_2 &lt;lgl&gt; | Score_virginica_2 &lt;lgl&gt; | Proba_setosa_2 &lt;dbl&gt; | Proba_versicolor_2 &lt;dbl&gt; | Proba_virginica_2 &lt;dbl&gt; | LogProba_setosa_2 &lt;dbl&gt; | LogProba_versicolor_2 &lt;dbl&gt; | LogProba_virginica_2 &lt;dbl&gt; | Decision_2 &lt;chr&gt; | DecisionProba_2 &lt;dbl&gt; |\n",
       "|---|---|---|---|---|---|---|---|---|---|---|---|---|---|---|---|---|---|---|---|---|\n",
       "\n"
      ],
      "text/plain": [
       "     KEY Proba_setosa_1 Proba_versicolor_1 Proba_virginica_1 Score_setosa_1\n",
       "     Score_versicolor_1 Score_virginica_1 LogProba_setosa_1\n",
       "     LogProba_versicolor_1 LogProba_virginica_1 ⋯ Score_versicolor_2\n",
       "     Score_virginica_2 Proba_setosa_2 Proba_versicolor_2 Proba_virginica_2\n",
       "     LogProba_setosa_2 LogProba_versicolor_2 LogProba_virginica_2 Decision_2\n",
       "     DecisionProba_2"
      ]
     },
     "metadata": {},
     "output_type": "display_data"
    }
   ],
   "source": [
    "diffs_df = df_merge[df_merge$Decision_1 != df_merge$Decision_2,]\n",
    "head(diffs_df)"
   ]
  },
  {
   "cell_type": "code",
   "execution_count": 13,
   "metadata": {},
   "outputs": [],
   "source": [
    "stopifnot(nrow(diffs_df) == 0)"
   ]
  },
  {
   "cell_type": "code",
   "execution_count": null,
   "metadata": {},
   "outputs": [],
   "source": []
  },
  {
   "cell_type": "code",
   "execution_count": 14,
   "metadata": {},
   "outputs": [
    {
     "data": {
      "text/plain": [
       "      idx         Score_setosa   Score_versicolor Score_virginica\n",
       " Min.   :  0.00   Mode:logical   Mode:logical     Mode:logical   \n",
       " 1st Qu.: 37.25   NA's:150       NA's:150         NA's:150       \n",
       " Median : 74.50                                                  \n",
       " Mean   : 74.50                                                  \n",
       " 3rd Qu.:111.75                                                  \n",
       " Max.   :149.00                                                  \n",
       "  Proba_setosa    Proba_versicolor Proba_virginica  LogProba_setosa \n",
       " Min.   :0.0000   Min.   :0.0000   Min.   :0.0000   Min.   :-32.24  \n",
       " 1st Qu.:0.0000   1st Qu.:0.0000   1st Qu.:0.0000   1st Qu.:-28.38  \n",
       " Median :0.0000   Median :0.0000   Median :0.0000   Median :-27.50  \n",
       " Mean   :0.3333   Mean   :0.3333   Mean   :0.3333   Mean   :-19.04  \n",
       " 3rd Qu.:1.0000   3rd Qu.:0.9991   3rd Qu.:1.0000   3rd Qu.:  0.00  \n",
       " Max.   :1.0000   Max.   :1.0000   Max.   :1.0000   Max.   :  0.00  \n",
       " LogProba_versicolor LogProba_virginica   Decision         DecisionProba   \n",
       " Min.   :-32.23619   Min.   :-32.24     Length:150         Min.   :0.6047  \n",
       " 1st Qu.:-32.23619   1st Qu.:-29.20     Class :character   1st Qu.:1.0000  \n",
       " Median :-32.23619   Median :-26.14     Mode  :character   Median :1.0000  \n",
       " Mean   :-19.47737   Mean   :-17.14                        Mean   :0.9883  \n",
       " 3rd Qu.: -0.00095   3rd Qu.:  0.00                        3rd Qu.:1.0000  \n",
       " Max.   :  0.00000   Max.   :  0.00                        Max.   :1.0000  \n",
       "      KEY        \n",
       " Min.   :  1.00  \n",
       " 1st Qu.: 38.25  \n",
       " Median : 75.50  \n",
       " Mean   : 75.50  \n",
       " 3rd Qu.:112.75  \n",
       " Max.   :150.00  "
      ]
     },
     "metadata": {},
     "output_type": "display_data"
    }
   ],
   "source": [
    "summary(df_cpp_out)"
   ]
  },
  {
   "cell_type": "code",
   "execution_count": 15,
   "metadata": {},
   "outputs": [
    {
     "data": {
      "text/plain": [
       "  Proba_setosa    Proba_versicolor Proba_virginica       KEY        \n",
       " Min.   :0.0000   Min.   :0.0000   Min.   :0.0000   Min.   :  1.00  \n",
       " 1st Qu.:0.0000   1st Qu.:0.0000   1st Qu.:0.0000   1st Qu.: 38.25  \n",
       " Median :0.0000   Median :0.0000   Median :0.0000   Median : 75.50  \n",
       " Mean   :0.3333   Mean   :0.3333   Mean   :0.3333   Mean   : 75.50  \n",
       " 3rd Qu.:1.0000   3rd Qu.:0.9991   3rd Qu.:1.0000   3rd Qu.:112.75  \n",
       " Max.   :1.0000   Max.   :1.0000   Max.   :1.0000   Max.   :150.00  \n",
       " Score_setosa   Score_versicolor Score_virginica LogProba_setosa \n",
       " Mode:logical   Mode:logical     Mode:logical    Min.   :-36.04  \n",
       " NA's:150       NA's:150         NA's:150        1st Qu.:-28.38  \n",
       "                                                 Median :-27.50  \n",
       "                                                 Mean   :-19.80  \n",
       "                                                 3rd Qu.:  0.00  \n",
       "                                                 Max.   :  0.00  \n",
       " LogProba_versicolor LogProba_virginica       Decision  DecisionProba   \n",
       " Min.   :-36.04365   Min.   :-36.04     setosa    :50   Min.   :0.6047  \n",
       " 1st Qu.:-36.04365   1st Qu.:-29.20     versicolor:50   1st Qu.:1.0000  \n",
       " Median :-36.04365   Median :-26.14     virginica :50   Median :1.0000  \n",
       " Mean   :-21.67508   Mean   :-18.10                     Mean   :0.9883  \n",
       " 3rd Qu.: -0.00095   3rd Qu.:  0.00                     3rd Qu.:1.0000  \n",
       " Max.   :  0.00000   Max.   :  0.00                     Max.   :1.0000  "
      ]
     },
     "metadata": {},
     "output_type": "display_data"
    }
   ],
   "source": [
    "summary(df_r_out)"
   ]
  },
  {
   "cell_type": "code",
   "execution_count": null,
   "metadata": {},
   "outputs": [],
   "source": []
  }
 ],
 "metadata": {
  "kernelspec": {
   "display_name": "R",
   "language": "R",
   "name": "ir"
  },
  "language_info": {
   "codemirror_mode": "r",
   "file_extension": ".r",
   "mimetype": "text/x-r-source",
   "name": "R",
   "pygments_lexer": "r",
   "version": "4.0.2"
  }
 },
 "nbformat": 4,
 "nbformat_minor": 2
}
