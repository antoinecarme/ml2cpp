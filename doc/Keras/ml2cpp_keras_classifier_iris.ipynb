{
 "cells": [
  {
   "cell_type": "markdown",
   "metadata": {},
   "source": [
    "# ML2CPP"
   ]
  },
  {
   "cell_type": "markdown",
   "metadata": {},
   "source": [
    "## Preparing the dataset"
   ]
  },
  {
   "cell_type": "code",
   "execution_count": 1,
   "metadata": {},
   "outputs": [],
   "source": [
    "from sklearn import datasets\n",
    "import numpy as np\n",
    "import pandas as pd\n",
    "\n",
    "def populate_table(tablename, feature_names):\n",
    "    iris = datasets.load_iris()\n",
    "    X = iris.data  \n",
    "    N = X.shape[0]\n",
    "    y = iris.target.reshape(N,1)\n",
    "    k = np.arange(N).reshape(N, 1)\n",
    "    k_X_y = np.concatenate((k, X, y) , axis=1)\n",
    "    lTable=pd.DataFrame(k_X_y)\n",
    "    # print(lTable.head())\n",
    "    lTable.columns = ['idx'] + feature_names + ['TGT'];\n",
    "    lTable['TGT'] = lTable['TGT'].apply(int)\n",
    "    lTable['idx'] = lTable['idx'].apply(int)\n",
    "    lTable.to_csv(tablename , float_format='%.14g')\n",
    "\n"
   ]
  },
  {
   "cell_type": "code",
   "execution_count": 2,
   "metadata": {},
   "outputs": [],
   "source": [
    "metadata = {\"primary_key\" : \"KEY\",\n",
    "            \"features\" : ['sepal_length_cm', 'sepal_width_cm', 'petal_length_cm', 'petal_width_cm'],\n",
    "            \"targets\" : [\"TGT\"],\n",
    "            \"table\" : \"iris\"}"
   ]
  },
  {
   "cell_type": "code",
   "execution_count": 3,
   "metadata": {},
   "outputs": [],
   "source": [
    "populate_table(\"/tmp/iris.csv\" , metadata[\"features\"])\n"
   ]
  },
  {
   "cell_type": "code",
   "execution_count": 4,
   "metadata": {},
   "outputs": [
    {
     "data": {
      "text/html": [
       "<div>\n",
       "<style scoped>\n",
       "    .dataframe tbody tr th:only-of-type {\n",
       "        vertical-align: middle;\n",
       "    }\n",
       "\n",
       "    .dataframe tbody tr th {\n",
       "        vertical-align: top;\n",
       "    }\n",
       "\n",
       "    .dataframe thead th {\n",
       "        text-align: right;\n",
       "    }\n",
       "</style>\n",
       "<table border=\"1\" class=\"dataframe\">\n",
       "  <thead>\n",
       "    <tr style=\"text-align: right;\">\n",
       "      <th></th>\n",
       "      <th>Unnamed: 0</th>\n",
       "      <th>idx</th>\n",
       "      <th>sepal_length_cm</th>\n",
       "      <th>sepal_width_cm</th>\n",
       "      <th>petal_length_cm</th>\n",
       "      <th>petal_width_cm</th>\n",
       "      <th>TGT</th>\n",
       "    </tr>\n",
       "  </thead>\n",
       "  <tbody>\n",
       "    <tr>\n",
       "      <th>114</th>\n",
       "      <td>114</td>\n",
       "      <td>114</td>\n",
       "      <td>5.8</td>\n",
       "      <td>2.8</td>\n",
       "      <td>5.1</td>\n",
       "      <td>2.4</td>\n",
       "      <td>2</td>\n",
       "    </tr>\n",
       "    <tr>\n",
       "      <th>74</th>\n",
       "      <td>74</td>\n",
       "      <td>74</td>\n",
       "      <td>6.4</td>\n",
       "      <td>2.9</td>\n",
       "      <td>4.3</td>\n",
       "      <td>1.3</td>\n",
       "      <td>1</td>\n",
       "    </tr>\n",
       "    <tr>\n",
       "      <th>9</th>\n",
       "      <td>9</td>\n",
       "      <td>9</td>\n",
       "      <td>4.9</td>\n",
       "      <td>3.1</td>\n",
       "      <td>1.5</td>\n",
       "      <td>0.1</td>\n",
       "      <td>0</td>\n",
       "    </tr>\n",
       "    <tr>\n",
       "      <th>88</th>\n",
       "      <td>88</td>\n",
       "      <td>88</td>\n",
       "      <td>5.6</td>\n",
       "      <td>3.0</td>\n",
       "      <td>4.1</td>\n",
       "      <td>1.3</td>\n",
       "      <td>1</td>\n",
       "    </tr>\n",
       "    <tr>\n",
       "      <th>25</th>\n",
       "      <td>25</td>\n",
       "      <td>25</td>\n",
       "      <td>5.0</td>\n",
       "      <td>3.0</td>\n",
       "      <td>1.6</td>\n",
       "      <td>0.2</td>\n",
       "      <td>0</td>\n",
       "    </tr>\n",
       "    <tr>\n",
       "      <th>5</th>\n",
       "      <td>5</td>\n",
       "      <td>5</td>\n",
       "      <td>5.4</td>\n",
       "      <td>3.9</td>\n",
       "      <td>1.7</td>\n",
       "      <td>0.4</td>\n",
       "      <td>0</td>\n",
       "    </tr>\n",
       "    <tr>\n",
       "      <th>48</th>\n",
       "      <td>48</td>\n",
       "      <td>48</td>\n",
       "      <td>5.3</td>\n",
       "      <td>3.7</td>\n",
       "      <td>1.5</td>\n",
       "      <td>0.2</td>\n",
       "      <td>0</td>\n",
       "    </tr>\n",
       "    <tr>\n",
       "      <th>117</th>\n",
       "      <td>117</td>\n",
       "      <td>117</td>\n",
       "      <td>7.7</td>\n",
       "      <td>3.8</td>\n",
       "      <td>6.7</td>\n",
       "      <td>2.2</td>\n",
       "      <td>2</td>\n",
       "    </tr>\n",
       "    <tr>\n",
       "      <th>83</th>\n",
       "      <td>83</td>\n",
       "      <td>83</td>\n",
       "      <td>6.0</td>\n",
       "      <td>2.7</td>\n",
       "      <td>5.1</td>\n",
       "      <td>1.6</td>\n",
       "      <td>1</td>\n",
       "    </tr>\n",
       "    <tr>\n",
       "      <th>105</th>\n",
       "      <td>105</td>\n",
       "      <td>105</td>\n",
       "      <td>7.6</td>\n",
       "      <td>3.0</td>\n",
       "      <td>6.6</td>\n",
       "      <td>2.1</td>\n",
       "      <td>2</td>\n",
       "    </tr>\n",
       "    <tr>\n",
       "      <th>27</th>\n",
       "      <td>27</td>\n",
       "      <td>27</td>\n",
       "      <td>5.2</td>\n",
       "      <td>3.5</td>\n",
       "      <td>1.5</td>\n",
       "      <td>0.2</td>\n",
       "      <td>0</td>\n",
       "    </tr>\n",
       "    <tr>\n",
       "      <th>64</th>\n",
       "      <td>64</td>\n",
       "      <td>64</td>\n",
       "      <td>5.6</td>\n",
       "      <td>2.9</td>\n",
       "      <td>3.6</td>\n",
       "      <td>1.3</td>\n",
       "      <td>1</td>\n",
       "    </tr>\n",
       "  </tbody>\n",
       "</table>\n",
       "</div>"
      ],
      "text/plain": [
       "     Unnamed: 0  idx  sepal_length_cm  sepal_width_cm  petal_length_cm  \\\n",
       "114         114  114              5.8             2.8              5.1   \n",
       "74           74   74              6.4             2.9              4.3   \n",
       "9             9    9              4.9             3.1              1.5   \n",
       "88           88   88              5.6             3.0              4.1   \n",
       "25           25   25              5.0             3.0              1.6   \n",
       "5             5    5              5.4             3.9              1.7   \n",
       "48           48   48              5.3             3.7              1.5   \n",
       "117         117  117              7.7             3.8              6.7   \n",
       "83           83   83              6.0             2.7              5.1   \n",
       "105         105  105              7.6             3.0              6.6   \n",
       "27           27   27              5.2             3.5              1.5   \n",
       "64           64   64              5.6             2.9              3.6   \n",
       "\n",
       "     petal_width_cm  TGT  \n",
       "114             2.4    2  \n",
       "74              1.3    1  \n",
       "9               0.1    0  \n",
       "88              1.3    1  \n",
       "25              0.2    0  \n",
       "5               0.4    0  \n",
       "48              0.2    0  \n",
       "117             2.2    2  \n",
       "83              1.6    1  \n",
       "105             2.1    2  \n",
       "27              0.2    0  \n",
       "64              1.3    1  "
      ]
     },
     "execution_count": 4,
     "metadata": {},
     "output_type": "execute_result"
    }
   ],
   "source": [
    "df = pd.read_csv(\"/tmp/iris.csv\")\n",
    "df.sample(12, random_state=1960)"
   ]
  },
  {
   "cell_type": "markdown",
   "metadata": {},
   "source": [
    "## Training a Model"
   ]
  },
  {
   "cell_type": "code",
   "execution_count": 5,
   "metadata": {},
   "outputs": [],
   "source": [
    "import keras \n",
    "from keras.models import Sequential\n",
    "from keras.layers.core import Dense, Activation, Dropout\n",
    "\n",
    "def create_model():\n",
    "    model = Sequential()\n",
    "    model.add(Dense(5, input_shape=(4,) , activation='relu'))\n",
    "    model.add(Dropout(0.3))\n",
    "    model.add(Dense(12))\n",
    "    model.add(Dropout(0.1))\n",
    "    model.add(Dense(3))\n",
    "    model.add(Activation('softmax'))\n",
    "    model.compile(loss='categorical_crossentropy', optimizer='adam')\n",
    "    return model\n",
    "\n"
   ]
  },
  {
   "cell_type": "code",
   "execution_count": 6,
   "metadata": {},
   "outputs": [
    {
     "data": {
      "text/plain": [
       "<tensorflow.python.keras.callbacks.History at 0x7fbef68f6c10>"
      ]
     },
     "execution_count": 6,
     "metadata": {},
     "output_type": "execute_result"
    }
   ],
   "source": [
    "# train any scikit model on the iris dataset\n",
    "from keras.wrappers.scikit_learn import KerasClassifier\n",
    "from keras.utils.np_utils import to_categorical\n",
    "\n",
    "clf = KerasClassifier(build_fn=create_model, epochs=12, batch_size=1, verbose=0)\n",
    "clf.fit(df[metadata['features']].values, to_categorical(df[metadata['targets']].values))"
   ]
  },
  {
   "cell_type": "markdown",
   "metadata": {},
   "source": [
    "## Deploying the Model"
   ]
  },
  {
   "cell_type": "code",
   "execution_count": 7,
   "metadata": {},
   "outputs": [
    {
     "ename": "TypeError",
     "evalue": "cannot pickle '_thread.RLock' object",
     "output_type": "error",
     "traceback": [
      "\u001b[0;31m---------------------------------------------------------------------------\u001b[0m",
      "\u001b[0;31mTypeError\u001b[0m                                 Traceback (most recent call last)",
      "\u001b[0;32m<ipython-input-7-59b94fe31a3c>\u001b[0m in \u001b[0;36m<module>\u001b[0;34m\u001b[0m\n\u001b[1;32m     14\u001b[0m \u001b[0;34m\u001b[0m\u001b[0m\n\u001b[1;32m     15\u001b[0m \u001b[0;34m\u001b[0m\u001b[0m\n\u001b[0;32m---> 16\u001b[0;31m \u001b[0mlCPPCode\u001b[0m \u001b[0;34m=\u001b[0m \u001b[0mgenerate_cpp_for_model\u001b[0m\u001b[0;34m(\u001b[0m\u001b[0mclf\u001b[0m\u001b[0;34m)\u001b[0m\u001b[0;34m;\u001b[0m\u001b[0;34m\u001b[0m\u001b[0;34m\u001b[0m\u001b[0m\n\u001b[0m",
      "\u001b[0;32m<ipython-input-7-59b94fe31a3c>\u001b[0m in \u001b[0;36mgenerate_cpp_for_model\u001b[0;34m(model)\u001b[0m\n\u001b[1;32m      1\u001b[0m \u001b[0;32mdef\u001b[0m \u001b[0mgenerate_cpp_for_model\u001b[0m\u001b[0;34m(\u001b[0m\u001b[0mmodel\u001b[0m\u001b[0;34m)\u001b[0m\u001b[0;34m:\u001b[0m\u001b[0;34m\u001b[0m\u001b[0;34m\u001b[0m\u001b[0m\n\u001b[1;32m      2\u001b[0m     \u001b[0;32mimport\u001b[0m \u001b[0mpickle\u001b[0m\u001b[0;34m,\u001b[0m \u001b[0mjson\u001b[0m\u001b[0;34m,\u001b[0m \u001b[0mrequests\u001b[0m\u001b[0;34m,\u001b[0m \u001b[0mbase64\u001b[0m\u001b[0;34m\u001b[0m\u001b[0;34m\u001b[0m\u001b[0m\n\u001b[0;32m----> 3\u001b[0;31m     \u001b[0mb64_data\u001b[0m \u001b[0;34m=\u001b[0m \u001b[0mbase64\u001b[0m\u001b[0;34m.\u001b[0m\u001b[0mb64encode\u001b[0m\u001b[0;34m(\u001b[0m\u001b[0mpickle\u001b[0m\u001b[0;34m.\u001b[0m\u001b[0mdumps\u001b[0m\u001b[0;34m(\u001b[0m\u001b[0mmodel\u001b[0m\u001b[0;34m)\u001b[0m\u001b[0;34m)\u001b[0m\u001b[0;34m.\u001b[0m\u001b[0mdecode\u001b[0m\u001b[0;34m(\u001b[0m\u001b[0;34m'utf-8'\u001b[0m\u001b[0;34m)\u001b[0m\u001b[0;34m\u001b[0m\u001b[0;34m\u001b[0m\u001b[0m\n\u001b[0m\u001b[1;32m      4\u001b[0m     \u001b[0;31m# send the model th the web service\u001b[0m\u001b[0;34m\u001b[0m\u001b[0;34m\u001b[0m\u001b[0;34m\u001b[0m\u001b[0m\n\u001b[1;32m      5\u001b[0m     json_data={\"Name\":\"model_cpp_sample\", \n",
      "\u001b[0;31mTypeError\u001b[0m: cannot pickle '_thread.RLock' object"
     ]
    }
   ],
   "source": [
    "\n",
    "def generate_cpp_for_model(model):\n",
    "    import pickle, json, requests, base64\n",
    "    b64_data = base64.b64encode(pickle.dumps(model)).decode('utf-8')\n",
    "    # send the model th the web service\n",
    "    json_data={\"Name\":\"model_cpp_sample\", \n",
    "               \"PickleData\":b64_data , \n",
    "               \"SQLDialect\":\"CPP\",\n",
    "               \"FeatureNames\" : metadata['features']}\n",
    "    r = requests.post(\"https://sklearn2sql.herokuapp.com/model\", json=json_data)\n",
    "    content = r.json()\n",
    "    lCPP = content[\"model\"][\"SQLGenrationResult\"][0][\"SQL\"]\n",
    "    # print(lCPP);\n",
    "    return lCPP\n",
    "\n",
    "\n",
    "lCPPCode = generate_cpp_for_model(clf);\n"
   ]
  },
  {
   "cell_type": "code",
   "execution_count": null,
   "metadata": {
    "scrolled": false
   },
   "outputs": [],
   "source": [
    "print(lCPPCode)"
   ]
  },
  {
   "cell_type": "code",
   "execution_count": null,
   "metadata": {},
   "outputs": [],
   "source": [
    "    def write_text_to_file(iCPPCode, oCPPFile):          \n",
    "        with open(oCPPFile, \"w\") as text_file:\n",
    "            text_file.write(iCPPCode)\n",
    "\n",
    "    def add_cpp_main_function(iCPPCode, iCSVFile):\n",
    "        lCPPCode = \"#include \\\"Generic.i\\\"\\n\\n\"\n",
    "        lCPPCode = lCPPCode + iCPPCode\n",
    "        lCPPCode = lCPPCode + \"\\tint main() {\\n\"\n",
    "        lCPPCode = lCPPCode + \"\\t\\tscore_csv_file(\\\"\" + iCSVFile +\"\\\");\\n\"\n",
    "        lCPPCode = lCPPCode + \"\\treturn 0;\\n}\\n\"\n",
    "        return lCPPCode\n",
    "\n",
    "    def compile_cpp_code_as_executable(iName):\n",
    "        import subprocess\n",
    "        lCommand = [\"g++\", \"-Wall\", \"-Wno-unused-function\", \"-std=c++17\" , \"-g\" ,  \"-o\", iName + \".exe\",  iName + \".cpp\"]\n",
    "        print(\"EXECUTING\" , \"'\" + \" \".join(lCommand) + \"'\")\n",
    "        result = subprocess.check_output(lCommand)\n",
    "        # print(result)\n",
    "\n",
    "    def execute_cpp_model(iName, iCSVFile):\n",
    "        import subprocess\n",
    "        result2 = subprocess.check_output([iName + \".exe\",  iCSVFile])\n",
    "        result2 = result2.decode()\n",
    "        print(result2[:1000])\n",
    "        print(result2[-1000:])\n",
    "        return result2\n",
    "        \n",
    "    def execute_cpp_code(iCPPCode, iCSVFile):\n",
    "        lName = \"/tmp/sklearn2sql_cpp_\" + str(id(clf));\n",
    "        lCPPCode = add_cpp_main_function(iCPPCode, iCSVFile)\n",
    "        write_text_to_file(lCPPCode, lName + \".cpp\")\n",
    "        compile_cpp_code_as_executable(lName)\n",
    "        result = execute_cpp_model(lName, iCSVFile)\n",
    "        write_text_to_file(str(result), lName + \".out\")\n",
    "        return lName + \".out\"\n"
   ]
  },
  {
   "cell_type": "code",
   "execution_count": null,
   "metadata": {
    "scrolled": false
   },
   "outputs": [],
   "source": [
    "populate_table(\"/tmp/iris2.csv\" , [\"Feature_0\", \"Feature_1\", \"Feature_2\", \"Feature_3\"])\n",
    "lCPPOutput = execute_cpp_code(lCPPCode , \"/tmp/iris2.csv\")\n",
    "cpp_output = pd.read_csv(lCPPOutput)"
   ]
  },
  {
   "cell_type": "code",
   "execution_count": null,
   "metadata": {},
   "outputs": [],
   "source": [
    "cpp_output.sample(12, random_state=1960)"
   ]
  },
  {
   "cell_type": "code",
   "execution_count": null,
   "metadata": {},
   "outputs": [],
   "source": [
    "skl_outputs = pd.DataFrame()\n",
    "X = df[metadata['features']].values\n",
    "skl_output_key = pd.DataFrame(list(range(X.shape[0])), columns=['idx']);\n",
    "\n",
    "skl_output_score = pd.DataFrame(columns=['Score_0', 'Score_1', 'Score_2']);\n",
    "skl_output_proba = pd.DataFrame(clf.predict_proba(X), columns=['Proba_0', 'Proba_1', 'Proba_2'])\n",
    "skl_output_log_proba = pd.DataFrame(clf.predict_log_proba(X), columns=['LogProba_0', 'LogProba_1', 'LogProba_2'])\n",
    "skl_output_decision = pd.DataFrame(clf.predict(X), columns=['Decision'])\n",
    "skl_output = pd.concat([skl_output_key, skl_output_score, skl_output_proba, skl_output_log_proba, skl_output_decision] , axis=1)\n",
    "skl_output.sample(12, random_state=1960)"
   ]
  },
  {
   "cell_type": "code",
   "execution_count": null,
   "metadata": {},
   "outputs": [],
   "source": [
    "cpp_skl_join = skl_output.join(cpp_output , how='left', on='idx', lsuffix='_skl', rsuffix='_cpp')"
   ]
  },
  {
   "cell_type": "code",
   "execution_count": null,
   "metadata": {},
   "outputs": [],
   "source": [
    "cpp_skl_join.sample(12, random_state=1960)"
   ]
  },
  {
   "cell_type": "code",
   "execution_count": null,
   "metadata": {},
   "outputs": [],
   "source": [
    "condition = (cpp_skl_join.Decision_cpp != cpp_skl_join.Decision_skl)\n",
    "cpp_skl_join[condition]\n"
   ]
  },
  {
   "cell_type": "code",
   "execution_count": null,
   "metadata": {},
   "outputs": [],
   "source": []
  },
  {
   "cell_type": "code",
   "execution_count": null,
   "metadata": {},
   "outputs": [],
   "source": []
  }
 ],
 "metadata": {
  "kernelspec": {
   "display_name": "Python 3",
   "language": "python",
   "name": "python3"
  },
  "language_info": {
   "codemirror_mode": {
    "name": "ipython",
    "version": 3
   },
   "file_extension": ".py",
   "mimetype": "text/x-python",
   "name": "python",
   "nbconvert_exporter": "python",
   "pygments_lexer": "ipython3",
   "version": "3.8.6"
  }
 },
 "nbformat": 4,
 "nbformat_minor": 1
}
