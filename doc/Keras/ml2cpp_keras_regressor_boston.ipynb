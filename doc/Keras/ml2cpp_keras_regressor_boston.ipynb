{
 "cells": [
  {
   "cell_type": "markdown",
   "metadata": {},
   "source": [
    "# ML2CPP"
   ]
  },
  {
   "cell_type": "markdown",
   "metadata": {},
   "source": [
    "## Preparing the dataset"
   ]
  },
  {
   "cell_type": "code",
   "execution_count": 1,
   "metadata": {},
   "outputs": [],
   "source": [
    "from sklearn import datasets\n",
    "import numpy as np\n",
    "import pandas as pd\n",
    "\n",
    "boston = datasets.load_boston()\n",
    "\n",
    "def populate_table(tablename, feature_names):\n",
    "    X = boston.data  \n",
    "    y = boston.target\n",
    "    N = X.shape[0]\n",
    "    y = y.reshape(N,1)\n",
    "    k = np.arange(N).reshape(N, 1)\n",
    "    k_X_y = np.concatenate((k, X, y) , axis=1)\n",
    "    lTable=pd.DataFrame(k_X_y)\n",
    "    # print(lTable.head())\n",
    "    lTable.columns = ['idx'] + feature_names + ['TGT'];\n",
    "    lTable['TGT'] = lTable['TGT'].apply(int)\n",
    "    lTable['idx'] = lTable['idx'].apply(int)\n",
    "    lTable.to_csv(tablename , float_format='%.14g')\n",
    "\n"
   ]
  },
  {
   "cell_type": "code",
   "execution_count": null,
   "metadata": {},
   "outputs": [],
   "source": []
  },
  {
   "cell_type": "code",
   "execution_count": 2,
   "metadata": {},
   "outputs": [],
   "source": [
    "metadata = {\"primary_key\" : \"KEY\",\n",
    "            \"features\" : list(boston.feature_names),\n",
    "            \"targets\" : [\"TGT\"],\n",
    "            \"table\" : \"iris\"}"
   ]
  },
  {
   "cell_type": "code",
   "execution_count": 3,
   "metadata": {},
   "outputs": [],
   "source": [
    "populate_table(\"/tmp/boston.csv\" , metadata[\"features\"])\n"
   ]
  },
  {
   "cell_type": "code",
   "execution_count": 4,
   "metadata": {},
   "outputs": [
    {
     "data": {
      "text/html": [
       "<div>\n",
       "<style scoped>\n",
       "    .dataframe tbody tr th:only-of-type {\n",
       "        vertical-align: middle;\n",
       "    }\n",
       "\n",
       "    .dataframe tbody tr th {\n",
       "        vertical-align: top;\n",
       "    }\n",
       "\n",
       "    .dataframe thead th {\n",
       "        text-align: right;\n",
       "    }\n",
       "</style>\n",
       "<table border=\"1\" class=\"dataframe\">\n",
       "  <thead>\n",
       "    <tr style=\"text-align: right;\">\n",
       "      <th></th>\n",
       "      <th>Unnamed: 0</th>\n",
       "      <th>idx</th>\n",
       "      <th>CRIM</th>\n",
       "      <th>ZN</th>\n",
       "      <th>INDUS</th>\n",
       "      <th>CHAS</th>\n",
       "      <th>NOX</th>\n",
       "      <th>RM</th>\n",
       "      <th>AGE</th>\n",
       "      <th>DIS</th>\n",
       "      <th>RAD</th>\n",
       "      <th>TAX</th>\n",
       "      <th>PTRATIO</th>\n",
       "      <th>B</th>\n",
       "      <th>LSTAT</th>\n",
       "      <th>TGT</th>\n",
       "    </tr>\n",
       "  </thead>\n",
       "  <tbody>\n",
       "    <tr>\n",
       "      <th>230</th>\n",
       "      <td>230</td>\n",
       "      <td>230</td>\n",
       "      <td>0.53700</td>\n",
       "      <td>0.0</td>\n",
       "      <td>6.20</td>\n",
       "      <td>0</td>\n",
       "      <td>0.504</td>\n",
       "      <td>5.981</td>\n",
       "      <td>68.1</td>\n",
       "      <td>3.6715</td>\n",
       "      <td>8</td>\n",
       "      <td>307</td>\n",
       "      <td>17.4</td>\n",
       "      <td>378.35</td>\n",
       "      <td>11.65</td>\n",
       "      <td>24</td>\n",
       "    </tr>\n",
       "    <tr>\n",
       "      <th>112</th>\n",
       "      <td>112</td>\n",
       "      <td>112</td>\n",
       "      <td>0.12329</td>\n",
       "      <td>0.0</td>\n",
       "      <td>10.01</td>\n",
       "      <td>0</td>\n",
       "      <td>0.547</td>\n",
       "      <td>5.913</td>\n",
       "      <td>92.9</td>\n",
       "      <td>2.3534</td>\n",
       "      <td>6</td>\n",
       "      <td>432</td>\n",
       "      <td>17.8</td>\n",
       "      <td>394.95</td>\n",
       "      <td>16.21</td>\n",
       "      <td>18</td>\n",
       "    </tr>\n",
       "    <tr>\n",
       "      <th>125</th>\n",
       "      <td>125</td>\n",
       "      <td>125</td>\n",
       "      <td>0.16902</td>\n",
       "      <td>0.0</td>\n",
       "      <td>25.65</td>\n",
       "      <td>0</td>\n",
       "      <td>0.581</td>\n",
       "      <td>5.986</td>\n",
       "      <td>88.4</td>\n",
       "      <td>1.9929</td>\n",
       "      <td>2</td>\n",
       "      <td>188</td>\n",
       "      <td>19.1</td>\n",
       "      <td>385.02</td>\n",
       "      <td>14.81</td>\n",
       "      <td>21</td>\n",
       "    </tr>\n",
       "    <tr>\n",
       "      <th>9</th>\n",
       "      <td>9</td>\n",
       "      <td>9</td>\n",
       "      <td>0.17004</td>\n",
       "      <td>12.5</td>\n",
       "      <td>7.87</td>\n",
       "      <td>0</td>\n",
       "      <td>0.524</td>\n",
       "      <td>6.004</td>\n",
       "      <td>85.9</td>\n",
       "      <td>6.5921</td>\n",
       "      <td>5</td>\n",
       "      <td>311</td>\n",
       "      <td>15.2</td>\n",
       "      <td>386.71</td>\n",
       "      <td>17.10</td>\n",
       "      <td>18</td>\n",
       "    </tr>\n",
       "    <tr>\n",
       "      <th>213</th>\n",
       "      <td>213</td>\n",
       "      <td>213</td>\n",
       "      <td>0.14052</td>\n",
       "      <td>0.0</td>\n",
       "      <td>10.59</td>\n",
       "      <td>0</td>\n",
       "      <td>0.489</td>\n",
       "      <td>6.375</td>\n",
       "      <td>32.3</td>\n",
       "      <td>3.9454</td>\n",
       "      <td>4</td>\n",
       "      <td>277</td>\n",
       "      <td>18.6</td>\n",
       "      <td>385.81</td>\n",
       "      <td>9.38</td>\n",
       "      <td>28</td>\n",
       "    </tr>\n",
       "    <tr>\n",
       "      <th>109</th>\n",
       "      <td>109</td>\n",
       "      <td>109</td>\n",
       "      <td>0.26363</td>\n",
       "      <td>0.0</td>\n",
       "      <td>8.56</td>\n",
       "      <td>0</td>\n",
       "      <td>0.520</td>\n",
       "      <td>6.229</td>\n",
       "      <td>91.2</td>\n",
       "      <td>2.5451</td>\n",
       "      <td>5</td>\n",
       "      <td>384</td>\n",
       "      <td>20.9</td>\n",
       "      <td>391.23</td>\n",
       "      <td>15.55</td>\n",
       "      <td>19</td>\n",
       "    </tr>\n",
       "    <tr>\n",
       "      <th>127</th>\n",
       "      <td>127</td>\n",
       "      <td>127</td>\n",
       "      <td>0.25915</td>\n",
       "      <td>0.0</td>\n",
       "      <td>21.89</td>\n",
       "      <td>0</td>\n",
       "      <td>0.624</td>\n",
       "      <td>5.693</td>\n",
       "      <td>96.0</td>\n",
       "      <td>1.7883</td>\n",
       "      <td>4</td>\n",
       "      <td>437</td>\n",
       "      <td>21.2</td>\n",
       "      <td>392.11</td>\n",
       "      <td>17.19</td>\n",
       "      <td>16</td>\n",
       "    </tr>\n",
       "    <tr>\n",
       "      <th>244</th>\n",
       "      <td>244</td>\n",
       "      <td>244</td>\n",
       "      <td>0.20608</td>\n",
       "      <td>22.0</td>\n",
       "      <td>5.86</td>\n",
       "      <td>0</td>\n",
       "      <td>0.431</td>\n",
       "      <td>5.593</td>\n",
       "      <td>76.5</td>\n",
       "      <td>7.9549</td>\n",
       "      <td>7</td>\n",
       "      <td>330</td>\n",
       "      <td>19.1</td>\n",
       "      <td>372.49</td>\n",
       "      <td>12.50</td>\n",
       "      <td>17</td>\n",
       "    </tr>\n",
       "    <tr>\n",
       "      <th>406</th>\n",
       "      <td>406</td>\n",
       "      <td>406</td>\n",
       "      <td>20.71620</td>\n",
       "      <td>0.0</td>\n",
       "      <td>18.10</td>\n",
       "      <td>0</td>\n",
       "      <td>0.659</td>\n",
       "      <td>4.138</td>\n",
       "      <td>100.0</td>\n",
       "      <td>1.1781</td>\n",
       "      <td>24</td>\n",
       "      <td>666</td>\n",
       "      <td>20.2</td>\n",
       "      <td>370.22</td>\n",
       "      <td>23.34</td>\n",
       "      <td>11</td>\n",
       "    </tr>\n",
       "    <tr>\n",
       "      <th>490</th>\n",
       "      <td>490</td>\n",
       "      <td>490</td>\n",
       "      <td>0.20746</td>\n",
       "      <td>0.0</td>\n",
       "      <td>27.74</td>\n",
       "      <td>0</td>\n",
       "      <td>0.609</td>\n",
       "      <td>5.093</td>\n",
       "      <td>98.0</td>\n",
       "      <td>1.8226</td>\n",
       "      <td>4</td>\n",
       "      <td>711</td>\n",
       "      <td>20.1</td>\n",
       "      <td>318.43</td>\n",
       "      <td>29.68</td>\n",
       "      <td>8</td>\n",
       "    </tr>\n",
       "    <tr>\n",
       "      <th>245</th>\n",
       "      <td>245</td>\n",
       "      <td>245</td>\n",
       "      <td>0.19133</td>\n",
       "      <td>22.0</td>\n",
       "      <td>5.86</td>\n",
       "      <td>0</td>\n",
       "      <td>0.431</td>\n",
       "      <td>5.605</td>\n",
       "      <td>70.2</td>\n",
       "      <td>7.9549</td>\n",
       "      <td>7</td>\n",
       "      <td>330</td>\n",
       "      <td>19.1</td>\n",
       "      <td>389.13</td>\n",
       "      <td>18.46</td>\n",
       "      <td>18</td>\n",
       "    </tr>\n",
       "    <tr>\n",
       "      <th>133</th>\n",
       "      <td>133</td>\n",
       "      <td>133</td>\n",
       "      <td>0.32982</td>\n",
       "      <td>0.0</td>\n",
       "      <td>21.89</td>\n",
       "      <td>0</td>\n",
       "      <td>0.624</td>\n",
       "      <td>5.822</td>\n",
       "      <td>95.4</td>\n",
       "      <td>2.4699</td>\n",
       "      <td>4</td>\n",
       "      <td>437</td>\n",
       "      <td>21.2</td>\n",
       "      <td>388.69</td>\n",
       "      <td>15.03</td>\n",
       "      <td>18</td>\n",
       "    </tr>\n",
       "  </tbody>\n",
       "</table>\n",
       "</div>"
      ],
      "text/plain": [
       "     Unnamed: 0  idx      CRIM    ZN  INDUS  CHAS    NOX     RM    AGE  \\\n",
       "230         230  230   0.53700   0.0   6.20     0  0.504  5.981   68.1   \n",
       "112         112  112   0.12329   0.0  10.01     0  0.547  5.913   92.9   \n",
       "125         125  125   0.16902   0.0  25.65     0  0.581  5.986   88.4   \n",
       "9             9    9   0.17004  12.5   7.87     0  0.524  6.004   85.9   \n",
       "213         213  213   0.14052   0.0  10.59     0  0.489  6.375   32.3   \n",
       "109         109  109   0.26363   0.0   8.56     0  0.520  6.229   91.2   \n",
       "127         127  127   0.25915   0.0  21.89     0  0.624  5.693   96.0   \n",
       "244         244  244   0.20608  22.0   5.86     0  0.431  5.593   76.5   \n",
       "406         406  406  20.71620   0.0  18.10     0  0.659  4.138  100.0   \n",
       "490         490  490   0.20746   0.0  27.74     0  0.609  5.093   98.0   \n",
       "245         245  245   0.19133  22.0   5.86     0  0.431  5.605   70.2   \n",
       "133         133  133   0.32982   0.0  21.89     0  0.624  5.822   95.4   \n",
       "\n",
       "        DIS  RAD  TAX  PTRATIO       B  LSTAT  TGT  \n",
       "230  3.6715    8  307     17.4  378.35  11.65   24  \n",
       "112  2.3534    6  432     17.8  394.95  16.21   18  \n",
       "125  1.9929    2  188     19.1  385.02  14.81   21  \n",
       "9    6.5921    5  311     15.2  386.71  17.10   18  \n",
       "213  3.9454    4  277     18.6  385.81   9.38   28  \n",
       "109  2.5451    5  384     20.9  391.23  15.55   19  \n",
       "127  1.7883    4  437     21.2  392.11  17.19   16  \n",
       "244  7.9549    7  330     19.1  372.49  12.50   17  \n",
       "406  1.1781   24  666     20.2  370.22  23.34   11  \n",
       "490  1.8226    4  711     20.1  318.43  29.68    8  \n",
       "245  7.9549    7  330     19.1  389.13  18.46   18  \n",
       "133  2.4699    4  437     21.2  388.69  15.03   18  "
      ]
     },
     "execution_count": 4,
     "metadata": {},
     "output_type": "execute_result"
    }
   ],
   "source": [
    "df = pd.read_csv(\"/tmp/boston.csv\")\n",
    "df.sample(12, random_state=1960)"
   ]
  },
  {
   "cell_type": "markdown",
   "metadata": {},
   "source": [
    "## Training a Model"
   ]
  },
  {
   "cell_type": "code",
   "execution_count": 5,
   "metadata": {},
   "outputs": [],
   "source": [
    "import keras \n",
    "from keras.models import Sequential\n",
    "from keras.layers.core import Dense, Activation, Dropout\n",
    "\n",
    "def create_model():\n",
    "    model = Sequential()\n",
    "    model.add(Dense(5, input_shape=(13,) , activation='relu'))\n",
    "    model.add(Dropout(0.3))\n",
    "    model.add(Dense(12))\n",
    "    model.add(Dropout(0.1))\n",
    "    model.add(Dense(1))\n",
    "    model.compile(loss='mean_squared_error', optimizer='adam')\n",
    "    return model"
   ]
  },
  {
   "cell_type": "code",
   "execution_count": 8,
   "metadata": {},
   "outputs": [
    {
     "data": {
      "text/plain": [
       "<tensorflow.python.keras.callbacks.History at 0x7f7a6021bd90>"
      ]
     },
     "execution_count": 8,
     "metadata": {},
     "output_type": "execute_result"
    }
   ],
   "source": [
    "\n",
    "\n",
    "# train any scikit model on the iris dataset\n",
    "from keras.wrappers.scikit_learn import KerasRegressor\n",
    "\n",
    "clf = KerasRegressor(build_fn=create_model, epochs=12, batch_size=1, verbose=0)\n",
    "clf.fit(df[metadata['features']].values, df[metadata['targets']].values)\n"
   ]
  },
  {
   "cell_type": "code",
   "execution_count": 9,
   "metadata": {},
   "outputs": [
    {
     "data": {
      "text/plain": [
       "'2.4.3'"
      ]
     },
     "execution_count": 9,
     "metadata": {},
     "output_type": "execute_result"
    }
   ],
   "source": [
    "keras.__version__"
   ]
  },
  {
   "cell_type": "markdown",
   "metadata": {},
   "source": [
    "## Deploying the Model"
   ]
  },
  {
   "cell_type": "code",
   "execution_count": 7,
   "metadata": {},
   "outputs": [
    {
     "ename": "TypeError",
     "evalue": "cannot pickle '_thread.RLock' object",
     "output_type": "error",
     "traceback": [
      "\u001b[0;31m---------------------------------------------------------------------------\u001b[0m",
      "\u001b[0;31mTypeError\u001b[0m                                 Traceback (most recent call last)",
      "\u001b[0;32m<ipython-input-7-59b94fe31a3c>\u001b[0m in \u001b[0;36m<module>\u001b[0;34m\u001b[0m\n\u001b[1;32m     14\u001b[0m \u001b[0;34m\u001b[0m\u001b[0m\n\u001b[1;32m     15\u001b[0m \u001b[0;34m\u001b[0m\u001b[0m\n\u001b[0;32m---> 16\u001b[0;31m \u001b[0mlCPPCode\u001b[0m \u001b[0;34m=\u001b[0m \u001b[0mgenerate_cpp_for_model\u001b[0m\u001b[0;34m(\u001b[0m\u001b[0mclf\u001b[0m\u001b[0;34m)\u001b[0m\u001b[0;34m;\u001b[0m\u001b[0;34m\u001b[0m\u001b[0;34m\u001b[0m\u001b[0m\n\u001b[0m",
      "\u001b[0;32m<ipython-input-7-59b94fe31a3c>\u001b[0m in \u001b[0;36mgenerate_cpp_for_model\u001b[0;34m(model)\u001b[0m\n\u001b[1;32m      1\u001b[0m \u001b[0;32mdef\u001b[0m \u001b[0mgenerate_cpp_for_model\u001b[0m\u001b[0;34m(\u001b[0m\u001b[0mmodel\u001b[0m\u001b[0;34m)\u001b[0m\u001b[0;34m:\u001b[0m\u001b[0;34m\u001b[0m\u001b[0;34m\u001b[0m\u001b[0m\n\u001b[1;32m      2\u001b[0m     \u001b[0;32mimport\u001b[0m \u001b[0mpickle\u001b[0m\u001b[0;34m,\u001b[0m \u001b[0mjson\u001b[0m\u001b[0;34m,\u001b[0m \u001b[0mrequests\u001b[0m\u001b[0;34m,\u001b[0m \u001b[0mbase64\u001b[0m\u001b[0;34m\u001b[0m\u001b[0;34m\u001b[0m\u001b[0m\n\u001b[0;32m----> 3\u001b[0;31m     \u001b[0mb64_data\u001b[0m \u001b[0;34m=\u001b[0m \u001b[0mbase64\u001b[0m\u001b[0;34m.\u001b[0m\u001b[0mb64encode\u001b[0m\u001b[0;34m(\u001b[0m\u001b[0mpickle\u001b[0m\u001b[0;34m.\u001b[0m\u001b[0mdumps\u001b[0m\u001b[0;34m(\u001b[0m\u001b[0mmodel\u001b[0m\u001b[0;34m)\u001b[0m\u001b[0;34m)\u001b[0m\u001b[0;34m.\u001b[0m\u001b[0mdecode\u001b[0m\u001b[0;34m(\u001b[0m\u001b[0;34m'utf-8'\u001b[0m\u001b[0;34m)\u001b[0m\u001b[0;34m\u001b[0m\u001b[0;34m\u001b[0m\u001b[0m\n\u001b[0m\u001b[1;32m      4\u001b[0m     \u001b[0;31m# send the model th the web service\u001b[0m\u001b[0;34m\u001b[0m\u001b[0;34m\u001b[0m\u001b[0;34m\u001b[0m\u001b[0m\n\u001b[1;32m      5\u001b[0m     json_data={\"Name\":\"model_cpp_sample\", \n",
      "\u001b[0;31mTypeError\u001b[0m: cannot pickle '_thread.RLock' object"
     ]
    }
   ],
   "source": [
    "\n",
    "def generate_cpp_for_model(model):\n",
    "    import pickle, json, requests, base64\n",
    "    b64_data = base64.b64encode(pickle.dumps(model)).decode('utf-8')\n",
    "    # send the model th the web service\n",
    "    json_data={\"Name\":\"model_cpp_sample\", \n",
    "               \"PickleData\":b64_data , \n",
    "               \"SQLDialect\":\"CPP\",\n",
    "               \"FeatureNames\" : metadata['features']}\n",
    "    r = requests.post(\"https://sklearn2sql.herokuapp.com/model\", json=json_data)\n",
    "    content = r.json()\n",
    "    lCPP = content[\"model\"][\"SQLGenrationResult\"][0][\"SQL\"]\n",
    "    # print(lCPP);\n",
    "    return lCPP\n",
    "\n",
    "\n",
    "lCPPCode = generate_cpp_for_model(clf);\n"
   ]
  },
  {
   "cell_type": "code",
   "execution_count": null,
   "metadata": {
    "scrolled": false
   },
   "outputs": [],
   "source": [
    "print(lCPPCode)"
   ]
  },
  {
   "cell_type": "code",
   "execution_count": null,
   "metadata": {},
   "outputs": [],
   "source": [
    "    def write_text_to_file(iCPPCode, oCPPFile):          \n",
    "        with open(oCPPFile, \"w\") as text_file:\n",
    "            text_file.write(iCPPCode)\n",
    "\n",
    "    def add_cpp_main_function(iCPPCode, iCSVFile):\n",
    "        lCPPCode = \"#include \\\"Generic.i\\\"\\n\\n\"\n",
    "        lCPPCode = lCPPCode + iCPPCode\n",
    "        lCPPCode = lCPPCode + \"\\tint main() {\\n\"\n",
    "        lCPPCode = lCPPCode + \"\\t\\tscore_csv_file(\\\"\" + iCSVFile +\"\\\");\\n\"\n",
    "        lCPPCode = lCPPCode + \"\\treturn 0;\\n}\\n\"\n",
    "        return lCPPCode\n",
    "\n",
    "    def compile_cpp_code_as_executable(iName):\n",
    "        import subprocess\n",
    "        lCommand = [\"g++\", \"-Wall\", \"-Wno-unused-function\", \"-std=c++17\" , \"-g\" ,  \"-o\", iName + \".exe\",  iName + \".cpp\"]\n",
    "        print(\"EXECUTING\" , \"'\" + \" \".join(lCommand) + \"'\")\n",
    "        result = subprocess.check_output(lCommand)\n",
    "        # print(result)\n",
    "\n",
    "    def execute_cpp_model(iName, iCSVFile):\n",
    "        import subprocess\n",
    "        result2 = subprocess.check_output([iName + \".exe\",  iCSVFile])\n",
    "        result2 = result2.decode()\n",
    "        print(result2[:100])\n",
    "        print(result2[-100:])\n",
    "        return result2\n",
    "        \n",
    "    def execute_cpp_code(iCPPCode, iCSVFile):\n",
    "        lName = \"/tmp/sklearn2sql_cpp_\" + str(id(clf));\n",
    "        lCPPCode = add_cpp_main_function(iCPPCode, iCSVFile)\n",
    "        write_text_to_file(lCPPCode, lName + \".cpp\")\n",
    "        compile_cpp_code_as_executable(lName)\n",
    "        result = execute_cpp_model(lName, iCSVFile)\n",
    "        write_text_to_file(str(result), lName + \".out\")\n",
    "        return lName + \".out\"\n"
   ]
  },
  {
   "cell_type": "code",
   "execution_count": null,
   "metadata": {
    "scrolled": false
   },
   "outputs": [],
   "source": [
    "populate_table(\"/tmp/boston2.csv\" , [\"Feature_\" + str(i) for i,x in enumerate(metadata[\"features\"])])\n",
    "lCPPOutput = execute_cpp_code(lCPPCode , \"/tmp/boston2.csv\")\n",
    "cpp_output = pd.read_csv(lCPPOutput)"
   ]
  },
  {
   "cell_type": "code",
   "execution_count": null,
   "metadata": {},
   "outputs": [],
   "source": [
    "cpp_output.sample(12, random_state=1960)"
   ]
  },
  {
   "cell_type": "code",
   "execution_count": null,
   "metadata": {},
   "outputs": [],
   "source": [
    "skl_outputs = pd.DataFrame()\n",
    "X = df[metadata['features']].values\n",
    "skl_output_key = pd.DataFrame(list(range(X.shape[0])), columns=['idx']);\n",
    "\n",
    "skl_output_score = pd.DataFrame(clf.predict(X), columns=['Estimator']);\n",
    "skl_output = pd.concat([skl_output_key, skl_output_score] , axis=1)\n",
    "skl_output.sample(12, random_state=1960)"
   ]
  },
  {
   "cell_type": "code",
   "execution_count": null,
   "metadata": {},
   "outputs": [],
   "source": [
    "cpp_skl_join = skl_output.join(cpp_output , how='left', on='idx', lsuffix='_skl', rsuffix='_cpp')"
   ]
  },
  {
   "cell_type": "code",
   "execution_count": null,
   "metadata": {},
   "outputs": [],
   "source": [
    "cpp_skl_join.sample(12, random_state=1960)"
   ]
  },
  {
   "cell_type": "code",
   "execution_count": null,
   "metadata": {},
   "outputs": [],
   "source": [
    "lDiff = cpp_skl_join['Estimator_skl'] - cpp_skl_join['Estimator_cpp']\n"
   ]
  },
  {
   "cell_type": "code",
   "execution_count": null,
   "metadata": {},
   "outputs": [],
   "source": [
    "lDiff.describe()"
   ]
  },
  {
   "cell_type": "code",
   "execution_count": null,
   "metadata": {},
   "outputs": [],
   "source": []
  }
 ],
 "metadata": {
  "kernelspec": {
   "display_name": "Python 3",
   "language": "python",
   "name": "python3"
  },
  "language_info": {
   "codemirror_mode": {
    "name": "ipython",
    "version": 3
   },
   "file_extension": ".py",
   "mimetype": "text/x-python",
   "name": "python",
   "nbconvert_exporter": "python",
   "pygments_lexer": "ipython3",
   "version": "3.8.6"
  }
 },
 "nbformat": 4,
 "nbformat_minor": 1
}
