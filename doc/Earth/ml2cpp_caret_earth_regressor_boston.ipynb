{
 "cells": [
  {
   "cell_type": "code",
   "execution_count": 1,
   "metadata": {},
   "outputs": [
    {
     "name": "stderr",
     "output_type": "stream",
     "text": [
      "\n",
      "Attaching package: ‘httr’\n",
      "\n",
      "\n",
      "The following object is masked from ‘package:caret’:\n",
      "\n",
      "    progress\n",
      "\n",
      "\n"
     ]
    }
   ],
   "source": [
    "library(caret, quiet = TRUE)\n",
    "library(base64enc)\n",
    "library(httr, quiet = TRUE)\n",
    "\n",
    "library(mlbench)"
   ]
  },
  {
   "cell_type": "markdown",
   "metadata": {},
   "source": [
    "# Build a Model"
   ]
  },
  {
   "cell_type": "code",
   "execution_count": 2,
   "metadata": {},
   "outputs": [],
   "source": [
    "options(digits = 15)\n",
    "\n",
    "## multiclass classification in iris dataset:\n",
    "\n",
    "data(BostonHousing)\n",
    "BostonHousing$chas = as.numeric(BostonHousing$chas)\n",
    "\n",
    "set.seed(1960)\n",
    "\n",
    "dataset = BostonHousing[, -14] \n",
    "\n",
    "create_model  =  function() {\n",
    "\n",
    "    grid = data.frame(degree=2, nprune = 20)\n",
    "    ctrl = trainControl(method=\"none\")\n",
    "    model <- train(medv ~ ., data = BostonHousing, method = \"earth\", preProcess=c(\"pca\"), trControl = ctrl, tuneGrid = grid)    \n",
    "    \n",
    "    return(model)\n",
    "}\n"
   ]
  },
  {
   "cell_type": "code",
   "execution_count": 3,
   "metadata": {},
   "outputs": [
    {
     "name": "stderr",
     "output_type": "stream",
     "text": [
      "Loading required package: earth\n",
      "\n",
      "Loading required package: Formula\n",
      "\n",
      "Loading required package: plotmo\n",
      "\n",
      "Loading required package: plotrix\n",
      "\n",
      "Loading required package: TeachingDemos\n",
      "\n"
     ]
    }
   ],
   "source": [
    "model = create_model()\n",
    "# cat(model$feature_names)\n",
    "# print(model)"
   ]
  },
  {
   "cell_type": "code",
   "execution_count": 4,
   "metadata": {},
   "outputs": [
    {
     "data": {
      "text/plain": [
       "      medv                     Estimator.y                 Error.y         \n",
       " Min.   : 5.0000000000   Min.   : 3.41514338182   Min.   :-28.64878580020  \n",
       " 1st Qu.:17.0250000000   1st Qu.:16.87419040090   1st Qu.: -1.46435170462  \n",
       " Median :21.2000000000   Median :21.24411931190   Median :  0.43840076751  \n",
       " Mean   :22.5328063241   Mean   :22.53280632410   Mean   :  0.00000000000  \n",
       " 3rd Qu.:25.0000000000   3rd Qu.:26.05895092910   3rd Qu.:  2.10026903498  \n",
       " Max.   :50.0000000000   Max.   :53.93315968310   Max.   : 10.05355276410  "
      ]
     },
     "metadata": {},
     "output_type": "display_data"
    },
    {
     "data": {
      "text/html": [
       "0.12633753222111"
      ],
      "text/latex": [
       "0.12633753222111"
      ],
      "text/markdown": [
       "0.12633753222111"
      ],
      "text/plain": [
       "[1] 0.12633753222111"
      ]
     },
     "metadata": {},
     "output_type": "display_data"
    }
   ],
   "source": [
    "pred_labels <- predict(model, BostonHousing[, -14] , type=\"raw\")\n",
    "df = data.frame(BostonHousing[,14])\n",
    "names(df) = c(\"medv\")\n",
    "df$Estimator = pred_labels\n",
    "df$Error = df$Estimator - df$medv\n",
    "MAPE = mean(abs(df$Error / df$medv))\n",
    "summary(df)\n",
    "MAPE"
   ]
  },
  {
   "cell_type": "markdown",
   "metadata": {},
   "source": [
    "# SQL Code Generation"
   ]
  },
  {
   "cell_type": "code",
   "execution_count": 5,
   "metadata": {},
   "outputs": [],
   "source": [
    "\n",
    "test_ws_sql_gen = function(mod) {\n",
    "    WS_URL = \"https://sklearn2sql.herokuapp.com/model\"\n",
    "    WS_URL = \"http://localhost:1888/model\"\n",
    "    model_serialized <- serialize(mod, NULL)\n",
    "    b64_data = base64encode(model_serialized)\n",
    "    data = list(Name = \"earth_test_model\", SerializedModel = b64_data , SQLDialect = \"CPP\" , Mode=\"caret\")\n",
    "    r = POST(WS_URL, body = data, encode = \"json\")\n",
    "    # print(r)\n",
    "    content = content(r)\n",
    "    # print(content)\n",
    "    lSQL = content$model$SQLGenrationResult[[1]]$SQL # content[\"model\"][\"SQLGenrationResult\"][0][\"SQL\"]\n",
    "    return(lSQL);\n",
    "}"
   ]
  },
  {
   "cell_type": "code",
   "execution_count": 6,
   "metadata": {
    "scrolled": false
   },
   "outputs": [
    {
     "name": "stdout",
     "output_type": "stream",
     "text": [
      "namespace  {\n",
      "\n",
      "\tnamespace prep_scale_pca {\n",
      "\t\n",
      "\t\tnamespace scale {\n",
      "\t\t\n",
      "\t\t\tstd::vector<std::string> get_input_names(){\n",
      "\t\t\t\tstd::vector<std::string> lFeatures = { \"Feature_0\", \"Feature_1\", \"Feature_2\", \"Feature_3\", \"Feature_4\", \"Feature_5\", \"Feature_6\", \"Feature_7\", \"Feature_8\", \"Feature_9\", \"Feature_10\", \"Feature_11\", \"Feature_12\" };\n",
      "\t\t\n",
      "\t\t\t\treturn lFeatures;\n",
      "\t\t\t}\n",
      "\t\t\n",
      "\t\t\tstd::vector<std::string> get_output_names(){\n",
      "\t\t\t\tstd::vector<std::string> lOutputs = { \"Feature_0\", \"Feature_1\", \"Feature_2\", \"Feature_3\", \"Feature_4\", \"Feature_5\", \"Feature_6\", \"Feature_7\", \"Feature_8\", \"Feature_9\", \"Feature_10\", \"Feature_11\", \"Feature_12\" };\n",
      "\t\t\n",
      "\t\t\t\treturn lOutputs;\n",
      "\t\t\t}\n",
      "\t\t\n",
      "\t\t\ttTable compute_features(std::any Feature_0, std::any Feature_1, std::any Feature_2, std::any Feature_3, std::any Feature_4, std::any Feature_5, std::any Feature_6, std::any Feature_7, std::any Feature_8, std::any Feature_9, std::any Feature_10, std::any Feature_11, std::any Feature_12) {\n",
      "\t\t\n",
      "\t\t\t\ttTable lTable;\n",
      "\t\t\n",
      "\t\t\t\tlTable[\"Feature_0\"] = { ( ( Feature_0 - 3.6135235573122526 ) / 8.60154510533249 ) };\n",
      "\t\t\t\tlTable[\"Feature_1\"] = { ( ( Feature_1 - 11.363636363636365 ) / 23.322452994515135 ) };\n",
      "\t\t\t\tlTable[\"Feature_2\"] = { ( ( Feature_2 - 11.13677865612648 ) / 6.860352940897585 ) };\n",
      "\t\t\t\tlTable[\"Feature_3\"] = { ( ( Feature_3 - 1.0691699604743083 ) / 0.2539940413404104 ) };\n",
      "\t\t\t\tlTable[\"Feature_4\"] = { ( ( Feature_4 - 0.5546950592885376 ) / 0.115877675667556 ) };\n",
      "\t\t\t\tlTable[\"Feature_5\"] = { ( ( Feature_5 - 6.284634387351779 ) / 0.7026171434153233 ) };\n",
      "\t\t\t\tlTable[\"Feature_6\"] = { ( ( Feature_6 - 68.57490118577077 ) / 28.148861406903617 ) };\n",
      "\t\t\t\tlTable[\"Feature_7\"] = { ( ( Feature_7 - 3.7950426877470353 ) / 2.105710126627611 ) };\n",
      "\t\t\t\tlTable[\"Feature_8\"] = { ( ( Feature_8 - 9.549407114624506 ) / 8.707259384239368 ) };\n",
      "\t\t\t\tlTable[\"Feature_9\"] = { ( ( Feature_9 - 408.2371541501977 ) / 168.537116054959 ) };\n",
      "\t\t\t\tlTable[\"Feature_10\"] = { ( ( Feature_10 - 18.455533596837945 ) / 2.1649455237144406 ) };\n",
      "\t\t\t\tlTable[\"Feature_11\"] = { ( ( Feature_11 - 356.6740316205533 ) / 91.29486438415783 ) };\n",
      "\t\t\t\tlTable[\"Feature_12\"] = { ( ( Feature_12 - 12.653063241106722 ) / 7.141061511348569 ) };\n",
      "\t\t\n",
      "\t\t\t\treturn lTable;\n",
      "\t\t\t}\n",
      "\t\t\n",
      "\t\t\ttTable compute_model_outputs_from_table( tTable const & iTable) {\n",
      "\t\t\t\ttTable lTable = compute_features(iTable.at(\"Feature_0\")[0], iTable.at(\"Feature_1\")[0], iTable.at(\"Feature_2\")[0], iTable.at(\"Feature_3\")[0], iTable.at(\"Feature_4\")[0], iTable.at(\"Feature_5\")[0], iTable.at(\"Feature_6\")[0], iTable.at(\"Feature_7\")[0], iTable.at(\"Feature_8\")[0], iTable.at(\"Feature_9\")[0], iTable.at(\"Feature_10\")[0], iTable.at(\"Feature_11\")[0], iTable.at(\"Feature_12\")[0]);\n",
      "\t\t\n",
      "\t\t\t\treturn lTable;\n",
      "\t\t\t}\n",
      "\t\t\n",
      "\t\t} // eof namespace scale\n",
      "\t\t\n",
      "\t\n",
      "\t\tnamespace pca {\n",
      "\t\t\n",
      "\t\t\tstd::vector<std::string> get_input_names(){\n",
      "\t\t\t\tstd::vector<std::string> lFeatures = { \"Feature_0\", \"Feature_1\", \"Feature_2\", \"Feature_3\", \"Feature_4\", \"Feature_5\", \"Feature_6\", \"Feature_7\", \"Feature_8\", \"Feature_9\", \"Feature_10\", \"Feature_11\", \"Feature_12\" };\n",
      "\t\t\n",
      "\t\t\t\treturn lFeatures;\n",
      "\t\t\t}\n",
      "\t\t\n",
      "\t\t\tstd::vector<std::string> get_output_names(){\n",
      "\t\t\t\tstd::vector<std::string> lOutputs = { \"pca_1\", \"pca_2\", \"pca_3\", \"pca_4\", \"pca_5\", \"pca_6\", \"pca_7\", \"pca_8\", \"pca_9\" };\n",
      "\t\t\n",
      "\t\t\t\treturn lOutputs;\n",
      "\t\t\t}\n",
      "\t\t\n",
      "\t\t\ttTable compute_features(std::any Feature_0, std::any Feature_1, std::any Feature_2, std::any Feature_3, std::any Feature_4, std::any Feature_5, std::any Feature_6, std::any Feature_7, std::any Feature_8, std::any Feature_9, std::any Feature_10, std::any Feature_11, std::any Feature_12) {\n",
      "\t\t\n",
      "\t\t\t\ttTable lTable;\n",
      "\t\t\n",
      "\t\t\t\tlTable[\"pca_1\"] = { ( Feature_0 ) * 0.25095139700709373 + ( Feature_1 ) * -0.2563145410324004 + ( Feature_2 ) * 0.3466720652839741 + ( Feature_3 ) * 0.0050424343035001115 + ( Feature_4 ) * 0.3428523131455746 + ( Feature_5 ) * -0.18924256979446785 + ( Feature_6 ) * 0.3136705960990012 + ( Feature_7 ) * -0.321543865690049 + ( Feature_8 ) * 0.319792767726865 + ( Feature_9 ) * 0.33846914672407835 + ( Feature_10 ) * 0.20494225789379739 + ( Feature_11 ) * -0.20297261154872356 + ( Feature_12 ) * 0.30975983995320894 };\n",
      "\t\t\t\tlTable[\"pca_2\"] = { ( Feature_0 ) * -0.31525236789261346 + ( Feature_1 ) * -0.32331290494785303 + ( Feature_2 ) * 0.11249290840362823 + ( Feature_3 ) * 0.4548291358125568 + ( Feature_4 ) * 0.2191155307138088 + ( Feature_5 ) * 0.14933154130986254 + ( Feature_6 ) * 0.3119777780885896 + ( Feature_7 ) * -0.3490700044535901 + ( Feature_8 ) * -0.2715209369150076 + ( Feature_9 ) * -0.2394536451210744 + ( Feature_10 ) * -0.30589695426565605 + ( Feature_11 ) * 0.2385594434622731 + ( Feature_12 ) * -0.07432202707053763 };\n",
      "\t\t\t\tlTable[\"pca_3\"] = { ( Feature_0 ) * 0.2465664916015572 + ( Feature_1 ) * 0.2958578157313751 + ( Feature_2 ) * -0.015945915238721367 + ( Feature_3 ) * 0.28978081523708665 + ( Feature_4 ) * 0.12096410834478302 + ( Feature_5 ) * 0.5939611667512547 + ( Feature_6 ) * -0.01767480928666667 + ( Feature_7 ) * -0.049736272731866336 + ( Feature_8 ) * 0.287254834518894 + ( Feature_9 ) * 0.22074447056687624 + ( Feature_10 ) * -0.32344627228188955 + ( Feature_11 ) * -0.30014590059841684 + ( Feature_12 ) * -0.2670002476282288 };\n",
      "\t\t\t\tlTable[\"pca_4\"] = { ( Feature_0 ) * -0.061770707302448324 + ( Feature_1 ) * -0.12871159098549345 + ( Feature_2 ) * -0.01714571397811746 + ( Feature_3 ) * -0.8159413638305858 + ( Feature_4 ) * 0.12822613989455994 + ( Feature_5 ) * 0.280591838171861 + ( Feature_6 ) * 0.1752060327559867 + ( Feature_7 ) * -0.2154358540887515 + ( Feature_8 ) * -0.132349958220452 + ( Feature_9 ) * -0.10333509210208558 + ( Feature_10 ) * -0.2826219756138421 + ( Feature_11 ) * -0.16849849675483147 + ( Feature_12 ) * -0.06941441058329473 };\n",
      "\t\t\t\tlTable[\"pca_5\"] = { ( Feature_0 ) * 0.08215691888385898 + ( Feature_1 ) * 0.3206169865906421 + ( Feature_2 ) * -0.007811193696897521 + ( Feature_3 ) * 0.08653094482619676 + ( Feature_4 ) * 0.1368535568424447 + ( Feature_5 ) * -0.4234471952081593 + ( Feature_6 ) * 0.016690847216242782 + ( Feature_7 ) * 0.09859224710066186 + ( Feature_8 ) * -0.20413162056772874 + ( Feature_9 ) * -0.13046056517005755 + ( Feature_10 ) * -0.5840022319155413 + ( Feature_11 ) * -0.3456069474449072 + ( Feature_12 ) * 0.3945611285031808 };\n",
      "\t\t\t\tlTable[\"pca_6\"] = { ( Feature_0 ) * -0.21965961199162606 + ( Feature_1 ) * -0.32338810230257536 + ( Feature_2 ) * -0.07613789853124776 + ( Feature_3 ) * 0.16749014135037904 + ( Feature_4 ) * -0.1529826701225125 + ( Feature_5 ) * 0.05926707386605577 + ( Feature_6 ) * -0.07170914451657767 + ( Feature_7 ) * 0.02343872338534499 + ( Feature_8 ) * -0.14319401187015146 + ( Feature_9 ) * -0.1929342820766456 + ( Feature_10 ) * 0.2731532998292731 + ( Feature_11 ) * -0.8034545367136156 + ( Feature_12 ) * -0.05321582972762018 };\n",
      "\t\t\t\tlTable[\"pca_7\"] = { ( Feature_0 ) * 0.7776072067450943 + ( Feature_1 ) * -0.27499628019224226 + ( Feature_2 ) * -0.33957645430845573 + ( Feature_3 ) * 0.07413620811204698 + ( Feature_4 ) * -0.19963484010878876 + ( Feature_5 ) * 0.06393992432284812 + ( Feature_6 ) * 0.11601071344886844 + ( Feature_7 ) * -0.10390043998563367 + ( Feature_8 ) * -0.1379425462801506 + ( Feature_9 ) * -0.31488683479266805 + ( Feature_10 ) * 0.002323869265379768 + ( Feature_11 ) * 0.07029475884623827 + ( Feature_12 ) * 0.0870111691863681 };\n",
      "\t\t\t\tlTable[\"pca_8\"] = { ( Feature_0 ) * -0.15335047663641946 + ( Feature_1 ) * 0.4026803090893625 + ( Feature_2 ) * -0.1739317157305102 + ( Feature_3 ) * 0.02466214767995344 + ( Feature_4 ) * -0.08012056035960738 + ( Feature_5 ) * 0.32675225887441534 + ( Feature_6 ) * 0.6008229171124257 + ( Feature_7 ) * 0.12181198210837454 + ( Feature_8 ) * -0.0803583105545974 + ( Feature_9 ) * -0.08277434696301414 + ( Feature_10 ) * 0.3178842016216001 + ( Feature_11 ) * 0.00492291485293532 + ( Feature_12 ) * 0.4243529260130208 };\n",
      "\t\t\t\tlTable[\"pca_9\"] = { ( Feature_0 ) * 0.2603902840478051 + ( Feature_1 ) * 0.3581374860270747 + ( Feature_2 ) * 0.6444161549324713 + ( Feature_3 ) * -0.01372777159025768 + ( Feature_4 ) * -0.01852201242956893 + ( Feature_5 ) * 0.04789803527115183 + ( Feature_6 ) * -0.06756218210884933 + ( Feature_7 ) * -0.15329124486092174 + ( Feature_8 ) * -0.4708906692227932 + ( Feature_9 ) * -0.17656339103436008 + ( Feature_10 ) * 0.2544283603125739 + ( Feature_11 ) * -0.044898023687983867 + ( Feature_12 ) * -0.19522139026821034 };\n",
      "\t\t\n",
      "\t\t\t\treturn lTable;\n",
      "\t\t\t}\n",
      "\t\t\n",
      "\t\t\ttTable compute_model_outputs_from_table( tTable const & iTable) {\n",
      "\t\t\t\ttTable lTable = compute_features(iTable.at(\"Feature_0\")[0], iTable.at(\"Feature_1\")[0], iTable.at(\"Feature_2\")[0], iTable.at(\"Feature_3\")[0], iTable.at(\"Feature_4\")[0], iTable.at(\"Feature_5\")[0], iTable.at(\"Feature_6\")[0], iTable.at(\"Feature_7\")[0], iTable.at(\"Feature_8\")[0], iTable.at(\"Feature_9\")[0], iTable.at(\"Feature_10\")[0], iTable.at(\"Feature_11\")[0], iTable.at(\"Feature_12\")[0]);\n",
      "\t\t\n",
      "\t\t\t\treturn lTable;\n",
      "\t\t\t}\n",
      "\t\t\n",
      "\t\t} // eof namespace pca\n",
      "\t\t\n",
      "\t\n",
      "\t\tstd::vector<std::string> get_input_names(){\n",
      "\t\t\tstd::vector<std::string> lFeatures = { \"Feature_0\", \"Feature_1\", \"Feature_2\", \"Feature_3\", \"Feature_4\", \"Feature_5\", \"Feature_6\", \"Feature_7\", \"Feature_8\", \"Feature_9\", \"Feature_10\", \"Feature_11\", \"Feature_12\" };\n",
      "\t\n",
      "\t\t\treturn lFeatures;\n",
      "\t\t}\n",
      "\t\n",
      "\t\tstd::vector<std::string> get_output_names(){\n",
      "\t\t\tstd::vector<std::string> lOutputs = { \"PC1\", \"PC2\", \"PC3\", \"PC4\", \"PC5\", \"PC6\", \"PC7\", \"PC8\", \"PC9\" };\n",
      "\t\n",
      "\t\t\treturn lOutputs;\n",
      "\t\t}\n",
      "\t\n",
      "\t\ttTable compute_features(std::any Feature_0, std::any Feature_1, std::any Feature_2, std::any Feature_3, std::any Feature_4, std::any Feature_5, std::any Feature_6, std::any Feature_7, std::any Feature_8, std::any Feature_9, std::any Feature_10, std::any Feature_11, std::any Feature_12) {\n",
      "\t\n",
      "\t\t\ttTable lTable;\n",
      "\t\n",
      "\t\t\ttTable lTable_scale = scale::compute_features(Feature_0, Feature_1, Feature_2, Feature_3, Feature_4, Feature_5, Feature_6, Feature_7, Feature_8, Feature_9, Feature_10, Feature_11, Feature_12);\n",
      "\t\n",
      "\t\t\ttTable lTable_pca = pca::compute_model_outputs_from_table( lTable_scale );;\n",
      "\t\n",
      "\t\t\tlTable[\"PC1\"] = { lTable_pca[ \"pca_1\" ][0] };\n",
      "\t\t\tlTable[\"PC2\"] = { lTable_pca[ \"pca_2\" ][0] };\n",
      "\t\t\tlTable[\"PC3\"] = { lTable_pca[ \"pca_3\" ][0] };\n",
      "\t\t\tlTable[\"PC4\"] = { lTable_pca[ \"pca_4\" ][0] };\n",
      "\t\t\tlTable[\"PC5\"] = { lTable_pca[ \"pca_5\" ][0] };\n",
      "\t\t\tlTable[\"PC6\"] = { lTable_pca[ \"pca_6\" ][0] };\n",
      "\t\t\tlTable[\"PC7\"] = { lTable_pca[ \"pca_7\" ][0] };\n",
      "\t\t\tlTable[\"PC8\"] = { lTable_pca[ \"pca_8\" ][0] };\n",
      "\t\t\tlTable[\"PC9\"] = { lTable_pca[ \"pca_9\" ][0] };\n",
      "\t\n",
      "\t\t\treturn lTable;\n",
      "\t\t}\n",
      "\t\n",
      "\t\ttTable compute_model_outputs_from_table( tTable const & iTable) {\n",
      "\t\t\ttTable lTable = compute_features(iTable.at(\"Feature_0\")[0], iTable.at(\"Feature_1\")[0], iTable.at(\"Feature_2\")[0], iTable.at(\"Feature_3\")[0], iTable.at(\"Feature_4\")[0], iTable.at(\"Feature_5\")[0], iTable.at(\"Feature_6\")[0], iTable.at(\"Feature_7\")[0], iTable.at(\"Feature_8\")[0], iTable.at(\"Feature_9\")[0], iTable.at(\"Feature_10\")[0], iTable.at(\"Feature_11\")[0], iTable.at(\"Feature_12\")[0]);\n",
      "\t\n",
      "\t\t\treturn lTable;\n",
      "\t\t}\n",
      "\t\n",
      "\t} // eof namespace prep_scale_pca\n",
      "\t\n",
      "\n",
      "\tnamespace earth {\n",
      "\t\n",
      "\t\tstd::vector<std::string> get_input_names(){\n",
      "\t\t\tstd::vector<std::string> lFeatures = { \"PC1\", \"PC2\", \"PC3\", \"PC4\", \"PC5\", \"PC6\", \"PC7\", \"PC8\", \"PC9\" };\n",
      "\t\n",
      "\t\t\treturn lFeatures;\n",
      "\t\t}\n",
      "\t\n",
      "\t\tstd::vector<std::string> get_output_names(){\n",
      "\t\t\tstd::vector<std::string> lOutputs = { \"Estimator\" };\n",
      "\t\n",
      "\t\t\treturn lOutputs;\n",
      "\t\t}\n",
      "\t\n",
      "\t\ttTable compute_regression(std::any PC1, std::any PC2, std::any PC3, std::any PC4, std::any PC5, std::any PC6, std::any PC7, std::any PC8, std::any PC9) {\n",
      "\t\n",
      "\t\t\ttTable lTable;\n",
      "\t\n",
      "\t\t\tstd::any  lEstimator = -3.149307357598218 * relu(PC1 - 2.7194979918243845) + 2.108601370321822 * relu(( 2.7194979918243845 - PC1 )) + 1.2164291950840087 * relu(( 2.7194979918243845 - PC1 )) * relu(PC3 - 0.4342148409652437) + -0.9894267729033628 * relu(( 2.7194979918243845 - PC1 )) * relu(( 0.4342148409652437 - PC3 )) + -0.4210254412855671 * relu(( 2.7194979918243845 - PC1 )) * relu(PC5 - -0.8565261459616214) + 1.0042056147167988 * relu(( 2.7194979918243845 - PC1 )) * relu(PC4 - 0.10797857718730404) + -0.5858436456883614 * relu(( 2.7194979918243845 - PC1 )) * relu(( 0.10797857718730404 - PC4 )) + 2.761060118776978 * relu(PC4 - 0.038653658746679365) + 4.118717329541629 * relu(( 0.038653658746679365 - PC4 )) + 2.004074158930357 * relu(( 0.4994957659279953 - PC8 )) + -1.7797264186750308 * relu(PC5 - -0.8565261459616214) * relu(( 0.4994957659279953 - PC8 )) + 9.932913810122992 * relu(( -0.8565261459616214 - PC5 )) * relu(( 0.4994957659279953 - PC8 )) + -2.002747583125531 * relu(PC6 - 0.08755448599963762) + -2.7618716212903958 * relu(( 0.08755448599963762 - PC6 )) + 1.9996830552424447 * relu(PC3 - 0.02421750990758446) * relu(( 0.4994957659279953 - PC8 )) + 2.1244826399931 * relu(( 0.02421750990758446 - PC3 )) * relu(( 0.4994957659279953 - PC8 )) + -1.3117876316161894 * relu(( 0.038653658746679365 - PC4 )) * relu(PC7 - -0.4055242796437972) + -7.477703271823426 * relu(( 0.038653658746679365 - PC4 )) * relu(( -0.4055242796437972 - PC7 )) + 17.367654843560608;\n",
      "\t\t\tlTable[ \"Estimator\" ] = { lEstimator };\n",
      "\t\n",
      "\t\t\treturn lTable;\n",
      "\t\t}\n",
      "\t\n",
      "\t\ttTable compute_model_outputs_from_table( tTable const & iTable) {\n",
      "\t\t\ttTable lTable = compute_regression(iTable.at(\"PC1\")[0], iTable.at(\"PC2\")[0], iTable.at(\"PC3\")[0], iTable.at(\"PC4\")[0], iTable.at(\"PC5\")[0], iTable.at(\"PC6\")[0], iTable.at(\"PC7\")[0], iTable.at(\"PC8\")[0], iTable.at(\"PC9\")[0]);\n",
      "\t\n",
      "\t\t\treturn lTable;\n",
      "\t\t}\n",
      "\t\n",
      "\t} // eof namespace earth\n",
      "\t\n",
      "\n",
      "\tstd::vector<std::string> get_input_names(){\n",
      "\t\tstd::vector<std::string> lFeatures = { \"Feature_0\", \"Feature_1\", \"Feature_2\", \"Feature_3\", \"Feature_4\", \"Feature_5\", \"Feature_6\", \"Feature_7\", \"Feature_8\", \"Feature_9\", \"Feature_10\", \"Feature_11\", \"Feature_12\" };\n",
      "\n",
      "\t\treturn lFeatures;\n",
      "\t}\n",
      "\n",
      "\tstd::vector<std::string> get_output_names(){\n",
      "\t\tstd::vector<std::string> lOutputs = { \"Estimator\" };\n",
      "\n",
      "\t\treturn lOutputs;\n",
      "\t}\n",
      "\n",
      "\ttTable compute_regression(std::any Feature_0, std::any Feature_1, std::any Feature_2, std::any Feature_3, std::any Feature_4, std::any Feature_5, std::any Feature_6, std::any Feature_7, std::any Feature_8, std::any Feature_9, std::any Feature_10, std::any Feature_11, std::any Feature_12) {\n",
      "\t\ttTable lTable_prep_scale_pca = prep_scale_pca::compute_features(Feature_0, Feature_1, Feature_2, Feature_3, Feature_4, Feature_5, Feature_6, Feature_7, Feature_8, Feature_9, Feature_10, Feature_11, Feature_12);\n",
      "\n",
      "\t\ttTable lTable_earth = earth::compute_model_outputs_from_table( lTable_prep_scale_pca );\n",
      "\n",
      "\n",
      "\t\ttTable lTable;\n",
      "\n",
      "\t\tstd::any  lEstimator = lTable_earth[ \"Estimator\" ][0];\n",
      "\t\tlTable[ \"Estimator\" ] = { lEstimator };\n",
      "\n",
      "\t\treturn lTable;\n",
      "\t}\n",
      "\n",
      "\ttTable compute_model_outputs_from_table( tTable const & iTable) {\n",
      "\t\ttTable lTable = compute_regression(iTable.at(\"Feature_0\")[0], iTable.at(\"Feature_1\")[0], iTable.at(\"Feature_2\")[0], iTable.at(\"Feature_3\")[0], iTable.at(\"Feature_4\")[0], iTable.at(\"Feature_5\")[0], iTable.at(\"Feature_6\")[0], iTable.at(\"Feature_7\")[0], iTable.at(\"Feature_8\")[0], iTable.at(\"Feature_9\")[0], iTable.at(\"Feature_10\")[0], iTable.at(\"Feature_11\")[0], iTable.at(\"Feature_12\")[0]);\n",
      "\n",
      "\t\treturn lTable;\n",
      "\t}\n",
      "\n",
      "} // eof namespace \n"
     ]
    }
   ],
   "source": [
    "lModelSQL = test_ws_sql_gen(model)\n",
    "cat(lModelSQL)\n"
   ]
  },
  {
   "cell_type": "code",
   "execution_count": null,
   "metadata": {},
   "outputs": [],
   "source": []
  },
  {
   "cell_type": "markdown",
   "metadata": {},
   "source": [
    "# Execute the CPP Code"
   ]
  },
  {
   "cell_type": "code",
   "execution_count": 7,
   "metadata": {},
   "outputs": [],
   "source": [
    "    write_text_to_file = function(iCPPCode, oCPPFile) {\n",
    "        fileConn<-file(oCPPFile)\n",
    "        writeLines(c(iCPPCode), fileConn)\n",
    "        close(fileConn)\n",
    "    }\n",
    "\n",
    "    add_cpp_main_function = function(iCPPCode, iCSVFile) {\n",
    "        lCPPCode = \"#include \\\"Generic.i\\\"\\n\\n\"\n",
    "        lCPPCode = paste(lCPPCode,  iCPPCode, sep=\"\")\n",
    "        lCPPCode = paste(lCPPCode, \"\\n\\nint main() {\\n\", sep=\"\")\n",
    "        lCPPCode = paste(lCPPCode, \"\\tscore_csv_file(\\\"\",  iCSVFile, \"\\\");\\n\", sep=\"\")\n",
    "        lCPPCode = paste(lCPPCode, \"\\treturn 0;\\n}\\n\", sep=\"\")\n",
    "        return(lCPPCode)\n",
    "    }\n",
    "\n",
    "    compile_cpp_code_as_executable = function(iName) {\n",
    "        lCommand = paste(\"-Wall -Wno-unused-function -std=c++17 -g -o \", iName,  \".exe \",  iName,  \".cpp\", sep=\"\")\n",
    "        cat(paste(\"EXECUTING \" , \"'\",  lCommand,  \"'\", sep=\"\"))\n",
    "        result = system2(\"g++\", args = lCommand)\n",
    "        # print(result)\n",
    "    }\n",
    "\n",
    "\n",
    "    execute_cpp_model = function(iName, iCSVFile) {\n",
    "        lOutName = paste(iName, \".out\", sep=\"\")\n",
    "        result2 = system2(paste(iName, \".exe\", sep=\"\") ,  args = iCSVFile, stdout=lOutName)\n",
    "        cat(result2)\n",
    "        return(result2)\n",
    "    }\n",
    "        \n",
    "    execute_cpp_code = function(iCPPCode, iCSVFile) {\n",
    "        lTimeStr = format(Sys.time(), \"%Y-%m-%d_%H_%M_%S\")\n",
    "        lName = paste(\"/tmp/ml2cpp_r_\", \"sample_\" , lTimeStr, sep=\"\");\n",
    "        lCPPCode = add_cpp_main_function(iCPPCode, iCSVFile)\n",
    "        write_text_to_file(lCPPCode, paste(lName, \".cpp\", sep=\"\"))\n",
    "        compile_cpp_code_as_executable(lName)\n",
    "        result = execute_cpp_model(lName, iCSVFile)\n",
    "        lOutName = paste(lName, \".out\", sep=\"\")\n",
    "        return(lOutName)\n",
    "    }\n"
   ]
  },
  {
   "cell_type": "code",
   "execution_count": 8,
   "metadata": {
    "scrolled": true
   },
   "outputs": [
    {
     "name": "stdout",
     "output_type": "stream",
     "text": [
      "EXECUTING '-Wall -Wno-unused-function -std=c++17 -g -o /tmp/ml2cpp_r_sample_2020-10-05_17_56_41.exe /tmp/ml2cpp_r_sample_2020-10-05_17_56_41.cpp'0"
     ]
    },
    {
     "data": {
      "text/html": [
       "'/tmp/ml2cpp_r_sample_2020-10-05_17_56_41.out'"
      ],
      "text/latex": [
       "'/tmp/ml2cpp\\_r\\_sample\\_2020-10-05\\_17\\_56\\_41.out'"
      ],
      "text/markdown": [
       "'/tmp/ml2cpp_r_sample_2020-10-05_17_56_41.out'"
      ],
      "text/plain": [
       "[1] \"/tmp/ml2cpp_r_sample_2020-10-05_17_56_41.out\""
      ]
     },
     "metadata": {},
     "output_type": "display_data"
    }
   ],
   "source": [
    "\n",
    "df_cpp_in = as.data.frame(dataset)\n",
    "# cat(names(df_cpp_in))\n",
    "\n",
    "names(df_cpp_in) = sprintf(\"Feature_%d\",0:(ncol(df_cpp_in)-1))\n",
    "\n",
    "write.csv(df_cpp_in, \"/tmp/boston2.csv\", quote = FALSE)\n",
    "\n",
    "lOutName = execute_cpp_code(lModelSQL, \"/tmp/boston2.csv\")\n",
    "lOutName"
   ]
  },
  {
   "cell_type": "code",
   "execution_count": 9,
   "metadata": {},
   "outputs": [
    {
     "data": {
      "text/html": [
       "<table>\n",
       "<caption>A data.frame: 6 × 3</caption>\n",
       "<thead>\n",
       "\t<tr><th></th><th scope=col>idx</th><th scope=col>Estimator</th><th scope=col>KEY</th></tr>\n",
       "\t<tr><th></th><th scope=col>&lt;int&gt;</th><th scope=col>&lt;dbl&gt;</th><th scope=col>&lt;int&gt;</th></tr>\n",
       "</thead>\n",
       "<tbody>\n",
       "\t<tr><th scope=row>1</th><td>0</td><td>29.8088704962200</td><td>1</td></tr>\n",
       "\t<tr><th scope=row>2</th><td>1</td><td>23.4707513255756</td><td>2</td></tr>\n",
       "\t<tr><th scope=row>3</th><td>2</td><td>32.2971504927786</td><td>3</td></tr>\n",
       "\t<tr><th scope=row>4</th><td>3</td><td>30.3006338134459</td><td>4</td></tr>\n",
       "\t<tr><th scope=row>5</th><td>4</td><td>28.9106260595744</td><td>5</td></tr>\n",
       "\t<tr><th scope=row>6</th><td>5</td><td>23.5111805672851</td><td>6</td></tr>\n",
       "</tbody>\n",
       "</table>\n"
      ],
      "text/latex": [
       "A data.frame: 6 × 3\n",
       "\\begin{tabular}{r|lll}\n",
       "  & idx & Estimator & KEY\\\\\n",
       "  & <int> & <dbl> & <int>\\\\\n",
       "\\hline\n",
       "\t1 & 0 & 29.8088704962200 & 1\\\\\n",
       "\t2 & 1 & 23.4707513255756 & 2\\\\\n",
       "\t3 & 2 & 32.2971504927786 & 3\\\\\n",
       "\t4 & 3 & 30.3006338134459 & 4\\\\\n",
       "\t5 & 4 & 28.9106260595744 & 5\\\\\n",
       "\t6 & 5 & 23.5111805672851 & 6\\\\\n",
       "\\end{tabular}\n"
      ],
      "text/markdown": [
       "\n",
       "A data.frame: 6 × 3\n",
       "\n",
       "| <!--/--> | idx &lt;int&gt; | Estimator &lt;dbl&gt; | KEY &lt;int&gt; |\n",
       "|---|---|---|---|\n",
       "| 1 | 0 | 29.8088704962200 | 1 |\n",
       "| 2 | 1 | 23.4707513255756 | 2 |\n",
       "| 3 | 2 | 32.2971504927786 | 3 |\n",
       "| 4 | 3 | 30.3006338134459 | 4 |\n",
       "| 5 | 4 | 28.9106260595744 | 5 |\n",
       "| 6 | 5 | 23.5111805672851 | 6 |\n",
       "\n"
      ],
      "text/plain": [
       "  idx Estimator        KEY\n",
       "1 0   29.8088704962200 1  \n",
       "2 1   23.4707513255756 2  \n",
       "3 2   32.2971504927786 3  \n",
       "4 3   30.3006338134459 4  \n",
       "5 4   28.9106260595744 5  \n",
       "6 5   23.5111805672851 6  "
      ]
     },
     "metadata": {},
     "output_type": "display_data"
    }
   ],
   "source": [
    "df_cpp_out <- read.csv(file = lOutName)\n",
    "df_cpp_out$KEY = seq.int(nrow(df_cpp_out))\n",
    "head(df_cpp_out)\n"
   ]
  },
  {
   "cell_type": "code",
   "execution_count": null,
   "metadata": {},
   "outputs": [],
   "source": []
  },
  {
   "cell_type": "code",
   "execution_count": 10,
   "metadata": {},
   "outputs": [],
   "source": [
    "# df_sql_out"
   ]
  },
  {
   "cell_type": "markdown",
   "metadata": {},
   "source": [
    "# R RandomForest Output"
   ]
  },
  {
   "cell_type": "code",
   "execution_count": 11,
   "metadata": {},
   "outputs": [
    {
     "data": {
      "text/html": [
       "<table>\n",
       "<caption>A data.frame: 6 × 2</caption>\n",
       "<thead>\n",
       "\t<tr><th></th><th scope=col>Estimator</th><th scope=col>KEY</th></tr>\n",
       "\t<tr><th></th><th scope=col>&lt;dbl&gt;</th><th scope=col>&lt;int&gt;</th></tr>\n",
       "</thead>\n",
       "<tbody>\n",
       "\t<tr><th scope=row>1</th><td>29.8088704962200</td><td>1</td></tr>\n",
       "\t<tr><th scope=row>2</th><td>23.4707513255756</td><td>2</td></tr>\n",
       "\t<tr><th scope=row>3</th><td>32.2971504927786</td><td>3</td></tr>\n",
       "\t<tr><th scope=row>4</th><td>30.3006338134459</td><td>4</td></tr>\n",
       "\t<tr><th scope=row>5</th><td>28.9106260595744</td><td>5</td></tr>\n",
       "\t<tr><th scope=row>6</th><td>23.5111805672851</td><td>6</td></tr>\n",
       "</tbody>\n",
       "</table>\n"
      ],
      "text/latex": [
       "A data.frame: 6 × 2\n",
       "\\begin{tabular}{r|ll}\n",
       "  & Estimator & KEY\\\\\n",
       "  & <dbl> & <int>\\\\\n",
       "\\hline\n",
       "\t1 & 29.8088704962200 & 1\\\\\n",
       "\t2 & 23.4707513255756 & 2\\\\\n",
       "\t3 & 32.2971504927786 & 3\\\\\n",
       "\t4 & 30.3006338134459 & 4\\\\\n",
       "\t5 & 28.9106260595744 & 5\\\\\n",
       "\t6 & 23.5111805672851 & 6\\\\\n",
       "\\end{tabular}\n"
      ],
      "text/markdown": [
       "\n",
       "A data.frame: 6 × 2\n",
       "\n",
       "| <!--/--> | Estimator &lt;dbl&gt; | KEY &lt;int&gt; |\n",
       "|---|---|---|\n",
       "| 1 | 29.8088704962200 | 1 |\n",
       "| 2 | 23.4707513255756 | 2 |\n",
       "| 3 | 32.2971504927786 | 3 |\n",
       "| 4 | 30.3006338134459 | 4 |\n",
       "| 5 | 28.9106260595744 | 5 |\n",
       "| 6 | 23.5111805672851 | 6 |\n",
       "\n"
      ],
      "text/plain": [
       "  Estimator        KEY\n",
       "1 29.8088704962200 1  \n",
       "2 23.4707513255756 2  \n",
       "3 32.2971504927786 3  \n",
       "4 30.3006338134459 4  \n",
       "5 28.9106260595744 5  \n",
       "6 23.5111805672851 6  "
      ]
     },
     "metadata": {},
     "output_type": "display_data"
    }
   ],
   "source": [
    "estimator  =  predict(model, dataset, type = \"raw\")\n",
    "df_r_out = data.frame(estimator)\n",
    "names(df_r_out) = c(\"Estimator\")\n",
    "\n",
    "df_r_out$KEY = seq.int(nrow(dataset))\n",
    "head(df_r_out)\n"
   ]
  },
  {
   "cell_type": "markdown",
   "metadata": {},
   "source": [
    "# Compare R and SQL output"
   ]
  },
  {
   "cell_type": "code",
   "execution_count": 12,
   "metadata": {},
   "outputs": [
    {
     "data": {
      "text/html": [
       "<table>\n",
       "<caption>A data.frame: 6 × 4</caption>\n",
       "<thead>\n",
       "\t<tr><th></th><th scope=col>KEY</th><th scope=col>Estimator_1</th><th scope=col>idx</th><th scope=col>Estimator_2</th></tr>\n",
       "\t<tr><th></th><th scope=col>&lt;int&gt;</th><th scope=col>&lt;dbl&gt;</th><th scope=col>&lt;int&gt;</th><th scope=col>&lt;dbl&gt;</th></tr>\n",
       "</thead>\n",
       "<tbody>\n",
       "\t<tr><th scope=row>1</th><td>1</td><td>29.8088704962200</td><td>0</td><td>29.8088704962200</td></tr>\n",
       "\t<tr><th scope=row>2</th><td>2</td><td>23.4707513255756</td><td>1</td><td>23.4707513255756</td></tr>\n",
       "\t<tr><th scope=row>3</th><td>3</td><td>32.2971504927786</td><td>2</td><td>32.2971504927786</td></tr>\n",
       "\t<tr><th scope=row>4</th><td>4</td><td>30.3006338134459</td><td>3</td><td>30.3006338134459</td></tr>\n",
       "\t<tr><th scope=row>5</th><td>5</td><td>28.9106260595744</td><td>4</td><td>28.9106260595744</td></tr>\n",
       "\t<tr><th scope=row>6</th><td>6</td><td>23.5111805672851</td><td>5</td><td>23.5111805672851</td></tr>\n",
       "</tbody>\n",
       "</table>\n"
      ],
      "text/latex": [
       "A data.frame: 6 × 4\n",
       "\\begin{tabular}{r|llll}\n",
       "  & KEY & Estimator\\_1 & idx & Estimator\\_2\\\\\n",
       "  & <int> & <dbl> & <int> & <dbl>\\\\\n",
       "\\hline\n",
       "\t1 & 1 & 29.8088704962200 & 0 & 29.8088704962200\\\\\n",
       "\t2 & 2 & 23.4707513255756 & 1 & 23.4707513255756\\\\\n",
       "\t3 & 3 & 32.2971504927786 & 2 & 32.2971504927786\\\\\n",
       "\t4 & 4 & 30.3006338134459 & 3 & 30.3006338134459\\\\\n",
       "\t5 & 5 & 28.9106260595744 & 4 & 28.9106260595744\\\\\n",
       "\t6 & 6 & 23.5111805672851 & 5 & 23.5111805672851\\\\\n",
       "\\end{tabular}\n"
      ],
      "text/markdown": [
       "\n",
       "A data.frame: 6 × 4\n",
       "\n",
       "| <!--/--> | KEY &lt;int&gt; | Estimator_1 &lt;dbl&gt; | idx &lt;int&gt; | Estimator_2 &lt;dbl&gt; |\n",
       "|---|---|---|---|---|\n",
       "| 1 | 1 | 29.8088704962200 | 0 | 29.8088704962200 |\n",
       "| 2 | 2 | 23.4707513255756 | 1 | 23.4707513255756 |\n",
       "| 3 | 3 | 32.2971504927786 | 2 | 32.2971504927786 |\n",
       "| 4 | 4 | 30.3006338134459 | 3 | 30.3006338134459 |\n",
       "| 5 | 5 | 28.9106260595744 | 4 | 28.9106260595744 |\n",
       "| 6 | 6 | 23.5111805672851 | 5 | 23.5111805672851 |\n",
       "\n"
      ],
      "text/plain": [
       "  KEY Estimator_1      idx Estimator_2     \n",
       "1 1   29.8088704962200 0   29.8088704962200\n",
       "2 2   23.4707513255756 1   23.4707513255756\n",
       "3 3   32.2971504927786 2   32.2971504927786\n",
       "4 4   30.3006338134459 3   30.3006338134459\n",
       "5 5   28.9106260595744 4   28.9106260595744\n",
       "6 6   23.5111805672851 5   23.5111805672851"
      ]
     },
     "metadata": {},
     "output_type": "display_data"
    }
   ],
   "source": [
    "df_merge = merge(x = df_r_out, y = df_cpp_out, by = \"KEY\", all = TRUE, , suffixes = c(\"_1\",\"_2\"))\n",
    "head(df_merge)"
   ]
  },
  {
   "cell_type": "code",
   "execution_count": 13,
   "metadata": {},
   "outputs": [
    {
     "data": {
      "text/html": [
       "<table>\n",
       "<caption>A data.frame: 6 × 6</caption>\n",
       "<thead>\n",
       "\t<tr><th></th><th scope=col>KEY</th><th scope=col>Estimator_1</th><th scope=col>idx</th><th scope=col>Estimator_2</th><th scope=col>Error</th><th scope=col>AbsError</th></tr>\n",
       "\t<tr><th></th><th scope=col>&lt;int&gt;</th><th scope=col>&lt;dbl&gt;</th><th scope=col>&lt;int&gt;</th><th scope=col>&lt;dbl&gt;</th><th scope=col>&lt;dbl&gt;</th><th scope=col>&lt;dbl&gt;</th></tr>\n",
       "</thead>\n",
       "<tbody>\n",
       "\t<tr><th scope=row>1</th><td>1</td><td>29.8088704962200</td><td>0</td><td>29.8088704962200</td><td> 0.0000000000000e+00</td><td>0.0000000000000e+00</td></tr>\n",
       "\t<tr><th scope=row>2</th><td>2</td><td>23.4707513255756</td><td>1</td><td>23.4707513255756</td><td>-7.1054273576010e-15</td><td>7.1054273576010e-15</td></tr>\n",
       "\t<tr><th scope=row>3</th><td>3</td><td>32.2971504927786</td><td>2</td><td>32.2971504927786</td><td>-1.4210854715202e-14</td><td>1.4210854715202e-14</td></tr>\n",
       "\t<tr><th scope=row>4</th><td>4</td><td>30.3006338134459</td><td>3</td><td>30.3006338134459</td><td> 0.0000000000000e+00</td><td>0.0000000000000e+00</td></tr>\n",
       "\t<tr><th scope=row>5</th><td>5</td><td>28.9106260595744</td><td>4</td><td>28.9106260595744</td><td> 3.5527136788005e-15</td><td>3.5527136788005e-15</td></tr>\n",
       "\t<tr><th scope=row>6</th><td>6</td><td>23.5111805672851</td><td>5</td><td>23.5111805672851</td><td>-7.1054273576010e-15</td><td>7.1054273576010e-15</td></tr>\n",
       "</tbody>\n",
       "</table>\n"
      ],
      "text/latex": [
       "A data.frame: 6 × 6\n",
       "\\begin{tabular}{r|llllll}\n",
       "  & KEY & Estimator\\_1 & idx & Estimator\\_2 & Error & AbsError\\\\\n",
       "  & <int> & <dbl> & <int> & <dbl> & <dbl> & <dbl>\\\\\n",
       "\\hline\n",
       "\t1 & 1 & 29.8088704962200 & 0 & 29.8088704962200 &  0.0000000000000e+00 & 0.0000000000000e+00\\\\\n",
       "\t2 & 2 & 23.4707513255756 & 1 & 23.4707513255756 & -7.1054273576010e-15 & 7.1054273576010e-15\\\\\n",
       "\t3 & 3 & 32.2971504927786 & 2 & 32.2971504927786 & -1.4210854715202e-14 & 1.4210854715202e-14\\\\\n",
       "\t4 & 4 & 30.3006338134459 & 3 & 30.3006338134459 &  0.0000000000000e+00 & 0.0000000000000e+00\\\\\n",
       "\t5 & 5 & 28.9106260595744 & 4 & 28.9106260595744 &  3.5527136788005e-15 & 3.5527136788005e-15\\\\\n",
       "\t6 & 6 & 23.5111805672851 & 5 & 23.5111805672851 & -7.1054273576010e-15 & 7.1054273576010e-15\\\\\n",
       "\\end{tabular}\n"
      ],
      "text/markdown": [
       "\n",
       "A data.frame: 6 × 6\n",
       "\n",
       "| <!--/--> | KEY &lt;int&gt; | Estimator_1 &lt;dbl&gt; | idx &lt;int&gt; | Estimator_2 &lt;dbl&gt; | Error &lt;dbl&gt; | AbsError &lt;dbl&gt; |\n",
       "|---|---|---|---|---|---|---|\n",
       "| 1 | 1 | 29.8088704962200 | 0 | 29.8088704962200 |  0.0000000000000e+00 | 0.0000000000000e+00 |\n",
       "| 2 | 2 | 23.4707513255756 | 1 | 23.4707513255756 | -7.1054273576010e-15 | 7.1054273576010e-15 |\n",
       "| 3 | 3 | 32.2971504927786 | 2 | 32.2971504927786 | -1.4210854715202e-14 | 1.4210854715202e-14 |\n",
       "| 4 | 4 | 30.3006338134459 | 3 | 30.3006338134459 |  0.0000000000000e+00 | 0.0000000000000e+00 |\n",
       "| 5 | 5 | 28.9106260595744 | 4 | 28.9106260595744 |  3.5527136788005e-15 | 3.5527136788005e-15 |\n",
       "| 6 | 6 | 23.5111805672851 | 5 | 23.5111805672851 | -7.1054273576010e-15 | 7.1054273576010e-15 |\n",
       "\n"
      ],
      "text/plain": [
       "  KEY Estimator_1      idx Estimator_2      Error               \n",
       "1 1   29.8088704962200 0   29.8088704962200  0.0000000000000e+00\n",
       "2 2   23.4707513255756 1   23.4707513255756 -7.1054273576010e-15\n",
       "3 3   32.2971504927786 2   32.2971504927786 -1.4210854715202e-14\n",
       "4 4   30.3006338134459 3   30.3006338134459  0.0000000000000e+00\n",
       "5 5   28.9106260595744 4   28.9106260595744  3.5527136788005e-15\n",
       "6 6   23.5111805672851 5   23.5111805672851 -7.1054273576010e-15\n",
       "  AbsError           \n",
       "1 0.0000000000000e+00\n",
       "2 7.1054273576010e-15\n",
       "3 1.4210854715202e-14\n",
       "4 0.0000000000000e+00\n",
       "5 3.5527136788005e-15\n",
       "6 7.1054273576010e-15"
      ]
     },
     "metadata": {},
     "output_type": "display_data"
    }
   ],
   "source": [
    "df_merge$Error = df_merge$Estimator_1 - df_merge$Estimator_2\n",
    "df_merge$AbsError = abs(df_merge$Error)\n",
    "head(df_merge)\n"
   ]
  },
  {
   "cell_type": "code",
   "execution_count": 14,
   "metadata": {},
   "outputs": [
    {
     "data": {
      "text/html": [
       "<table>\n",
       "<caption>A data.frame: 0 × 6</caption>\n",
       "<thead>\n",
       "\t<tr><th scope=col>KEY</th><th scope=col>Estimator_1</th><th scope=col>idx</th><th scope=col>Estimator_2</th><th scope=col>Error</th><th scope=col>AbsError</th></tr>\n",
       "\t<tr><th scope=col>&lt;int&gt;</th><th scope=col>&lt;dbl&gt;</th><th scope=col>&lt;int&gt;</th><th scope=col>&lt;dbl&gt;</th><th scope=col>&lt;dbl&gt;</th><th scope=col>&lt;dbl&gt;</th></tr>\n",
       "</thead>\n",
       "<tbody>\n",
       "</tbody>\n",
       "</table>\n"
      ],
      "text/latex": [
       "A data.frame: 0 × 6\n",
       "\\begin{tabular}{llllll}\n",
       " KEY & Estimator\\_1 & idx & Estimator\\_2 & Error & AbsError\\\\\n",
       " <int> & <dbl> & <int> & <dbl> & <dbl> & <dbl>\\\\\n",
       "\\hline\n",
       "\\end{tabular}\n"
      ],
      "text/markdown": [
       "\n",
       "A data.frame: 0 × 6\n",
       "\n",
       "| KEY &lt;int&gt; | Estimator_1 &lt;dbl&gt; | idx &lt;int&gt; | Estimator_2 &lt;dbl&gt; | Error &lt;dbl&gt; | AbsError &lt;dbl&gt; |\n",
       "|---|---|---|---|---|---|\n",
       "\n"
      ],
      "text/plain": [
       "     KEY Estimator_1 idx Estimator_2 Error AbsError"
      ]
     },
     "metadata": {},
     "output_type": "display_data"
    }
   ],
   "source": [
    "df_merge_largest_errors = df_merge[df_merge$AbsError > 0.0000001,]\n",
    "df_merge_largest_errors"
   ]
  },
  {
   "cell_type": "code",
   "execution_count": 15,
   "metadata": {},
   "outputs": [
    {
     "data": {
      "text/html": [
       "0"
      ],
      "text/latex": [
       "0"
      ],
      "text/markdown": [
       "0"
      ],
      "text/plain": [
       "[1] 0"
      ]
     },
     "metadata": {},
     "output_type": "display_data"
    }
   ],
   "source": [
    "nrow(df_merge_largest_errors)\n",
    "stopifnot(nrow(df_merge_largest_errors) <= 2)\n"
   ]
  },
  {
   "cell_type": "code",
   "execution_count": null,
   "metadata": {},
   "outputs": [],
   "source": []
  },
  {
   "cell_type": "code",
   "execution_count": 16,
   "metadata": {},
   "outputs": [
    {
     "data": {
      "text/plain": [
       "      idx           Estimator                   KEY        \n",
       " Min.   :  0.00   Min.   : 3.41514338182   Min.   :  1.00  \n",
       " 1st Qu.:126.25   1st Qu.:16.87419040090   1st Qu.:127.25  \n",
       " Median :252.50   Median :21.24411931190   Median :253.50  \n",
       " Mean   :252.50   Mean   :22.53280632410   Mean   :253.50  \n",
       " 3rd Qu.:378.75   3rd Qu.:26.05895092910   3rd Qu.:379.75  \n",
       " Max.   :505.00   Max.   :53.93315968310   Max.   :506.00  "
      ]
     },
     "metadata": {},
     "output_type": "display_data"
    }
   ],
   "source": [
    "summary(df_cpp_out)"
   ]
  },
  {
   "cell_type": "code",
   "execution_count": 17,
   "metadata": {},
   "outputs": [
    {
     "data": {
      "text/plain": [
       "   Estimator                   KEY        \n",
       " Min.   : 3.41514338182   Min.   :  1.00  \n",
       " 1st Qu.:16.87419040090   1st Qu.:127.25  \n",
       " Median :21.24411931190   Median :253.50  \n",
       " Mean   :22.53280632410   Mean   :253.50  \n",
       " 3rd Qu.:26.05895092910   3rd Qu.:379.75  \n",
       " Max.   :53.93315968310   Max.   :506.00  "
      ]
     },
     "metadata": {},
     "output_type": "display_data"
    }
   ],
   "source": [
    "summary(df_r_out)"
   ]
  },
  {
   "cell_type": "code",
   "execution_count": 18,
   "metadata": {},
   "outputs": [
    {
     "data": {
      "text/plain": [
       "      KEY          Estimator_1                  idx        \n",
       " Min.   :  1.00   Min.   : 3.41514338182   Min.   :  0.00  \n",
       " 1st Qu.:127.25   1st Qu.:16.87419040090   1st Qu.:126.25  \n",
       " Median :253.50   Median :21.24411931190   Median :252.50  \n",
       " Mean   :253.50   Mean   :22.53280632410   Mean   :252.50  \n",
       " 3rd Qu.:379.75   3rd Qu.:26.05895092910   3rd Qu.:378.75  \n",
       " Max.   :506.00   Max.   :53.93315968310   Max.   :505.00  \n",
       "  Estimator_2                 Error                   \n",
       " Min.   : 3.41514338182   Min.   :-2.84217094304e-14  \n",
       " 1st Qu.:16.87419040090   1st Qu.:-5.32907051820e-15  \n",
       " Median :21.24411931190   Median :-1.77635683940e-15  \n",
       " Mean   :22.53280632410   Mean   :-2.31962012181e-15  \n",
       " 3rd Qu.:26.05895092910   3rd Qu.: 0.00000000000e+00  \n",
       " Max.   :53.93315968310   Max.   : 1.42108547152e-14  \n",
       "    AbsError                \n",
       " Min.   :0.00000000000e+00  \n",
       " 1st Qu.:0.00000000000e+00  \n",
       " Median :3.55271367880e-15  \n",
       " Mean   :4.56639557085e-15  \n",
       " 3rd Qu.:7.10542735760e-15  \n",
       " Max.   :2.84217094304e-14  "
      ]
     },
     "metadata": {},
     "output_type": "display_data"
    }
   ],
   "source": [
    "summary(df_merge)"
   ]
  },
  {
   "cell_type": "code",
   "execution_count": null,
   "metadata": {},
   "outputs": [],
   "source": []
  },
  {
   "cell_type": "code",
   "execution_count": null,
   "metadata": {},
   "outputs": [],
   "source": []
  }
 ],
 "metadata": {
  "kernelspec": {
   "display_name": "R",
   "language": "R",
   "name": "ir"
  },
  "language_info": {
   "codemirror_mode": "r",
   "file_extension": ".r",
   "mimetype": "text/x-r-source",
   "name": "R",
   "pygments_lexer": "r",
   "version": "4.0.2"
  }
 },
 "nbformat": 4,
 "nbformat_minor": 2
}
